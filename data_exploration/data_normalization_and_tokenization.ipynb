{
  "nbformat": 4,
  "nbformat_minor": 0,
  "metadata": {
    "colab": {
      "name": "data_normalization_and_tokenization.ipynb",
      "provenance": [],
      "collapsed_sections": [],
      "machine_shape": "hm"
    },
    "kernelspec": {
      "name": "python3",
      "display_name": "Python 3"
    },
    "language_info": {
      "name": "python"
    }
  },
  "cells": [
    {
      "cell_type": "markdown",
      "metadata": {
        "id": "p1WoKPoU6oQ5"
      },
      "source": [
        "# Normalizing and encoding the data"
      ]
    },
    {
      "cell_type": "code",
      "metadata": {
        "id": "dlHoej2OL05O"
      },
      "source": [
        "# Jupyter magic methods\n",
        "# For auto-reloading when external modules are changed\n",
        "%load_ext autoreload\n",
        "%autoreload 2\n",
        "# For showing plots inline\n",
        "%matplotlib inline\n",
        "\n",
        "import numpy as np\n",
        "import pandas as pd\n",
        "pd.set_option('float_format', '{:f}'.format)\n",
        "import matplotlib.pyplot as plt\n",
        "import seaborn as sns\n",
        "sns.set_theme()"
      ],
      "execution_count": 2,
      "outputs": []
    },
    {
      "cell_type": "code",
      "metadata": {
        "id": "xP-fLYu-L2q2",
        "colab": {
          "base_uri": "https://localhost:8080/"
        },
        "outputId": "67a29846-5628-425b-dbd4-6b08e05abdf8"
      },
      "source": [
        "# Give the notebook access to the rest of your google drive files.\n",
        "from google.colab import drive\n",
        "drive.mount(\"/content/drive\", force_remount=True)\n",
        "# Enter the relevant foldername\n",
        "FOLDERNAME = '/content/drive/My Drive/ML/arxiv_vixra/'\n",
        "assert FOLDERNAME is not None, \"[!] Enter the foldername.\"\n",
        "# For importing .py modules stored in FOLDERNAME or a subdirectory:\n",
        "import sys\n",
        "sys.path.append(FOLDERNAME)"
      ],
      "execution_count": 3,
      "outputs": [
        {
          "output_type": "stream",
          "name": "stdout",
          "text": [
            "Mounted at /content/drive\n"
          ]
        }
      ]
    },
    {
      "cell_type": "markdown",
      "metadata": {
        "id": "0A1TndeGMfAG"
      },
      "source": [
        "# Importing Data\n",
        "\n",
        "Only use the training set."
      ]
    },
    {
      "cell_type": "code",
      "metadata": {
        "id": "dsmJg51pL3rm",
        "colab": {
          "base_uri": "https://localhost:8080/"
        },
        "outputId": "268af299-baef-4b6b-a0af-9376c492f229"
      },
      "source": [
        "balanced_train_file = 'balanced_filtered_data_train.feather'\n",
        "large_train_file = 'large_filtered_data_train.feather'\n",
        "SUBDIR = 'data/data_splits/'\n",
        "balanced_path = FOLDERNAME + SUBDIR + balanced_train_file\n",
        "large_file = FOLDERNAME + SUBDIR + large_train_file\n",
        "\n",
        "!cp '{large_file}' .\n",
        "!cp '{balanced_path}' .\n",
        "!ls"
      ],
      "execution_count": 4,
      "outputs": [
        {
          "output_type": "stream",
          "name": "stdout",
          "text": [
            "balanced_filtered_data_train.feather  large_filtered_data_train.feather\n",
            "drive\t\t\t\t      sample_data\n"
          ]
        }
      ]
    },
    {
      "cell_type": "code",
      "metadata": {
        "id": "rYOBJWyvL1O0",
        "colab": {
          "base_uri": "https://localhost:8080/",
          "height": 204
        },
        "outputId": "30813bf5-39ea-4953-fe0e-1398fde7bee3"
      },
      "source": [
        "balanced_train_df = pd.read_feather(balanced_train_file, columns=['title', 'abstract', 'source'])\n",
        "balanced_train_df.head()"
      ],
      "execution_count": 5,
      "outputs": [
        {
          "output_type": "execute_result",
          "data": {
            "text/html": [
              "<div>\n",
              "<style scoped>\n",
              "    .dataframe tbody tr th:only-of-type {\n",
              "        vertical-align: middle;\n",
              "    }\n",
              "\n",
              "    .dataframe tbody tr th {\n",
              "        vertical-align: top;\n",
              "    }\n",
              "\n",
              "    .dataframe thead th {\n",
              "        text-align: right;\n",
              "    }\n",
              "</style>\n",
              "<table border=\"1\" class=\"dataframe\">\n",
              "  <thead>\n",
              "    <tr style=\"text-align: right;\">\n",
              "      <th></th>\n",
              "      <th>title</th>\n",
              "      <th>abstract</th>\n",
              "      <th>source</th>\n",
              "    </tr>\n",
              "  </thead>\n",
              "  <tbody>\n",
              "    <tr>\n",
              "      <th>0</th>\n",
              "      <td>REITS: Reflective Surface for Intelligent Tran...</td>\n",
              "      <td>Autonomous vehicles are predicted to dominat...</td>\n",
              "      <td>arxiv</td>\n",
              "    </tr>\n",
              "    <tr>\n",
              "      <th>1</th>\n",
              "      <td>Mirror Images and Division by Zero Calculus</td>\n",
              "      <td>Very classical results on the mirror images of...</td>\n",
              "      <td>vixra</td>\n",
              "    </tr>\n",
              "    <tr>\n",
              "      <th>2</th>\n",
              "      <td>Electromagnetic Waves in an Expanding 5D Universe</td>\n",
              "      <td>Electromagnetism is analyzed in a 5D expanding...</td>\n",
              "      <td>vixra</td>\n",
              "    </tr>\n",
              "    <tr>\n",
              "      <th>3</th>\n",
              "      <td>Atomic-Scale Erector</td>\n",
              "      <td>To design buildings that can withstand the lar...</td>\n",
              "      <td>vixra</td>\n",
              "    </tr>\n",
              "    <tr>\n",
              "      <th>4</th>\n",
              "      <td>Temperature dependence of microwave and THz di...</td>\n",
              "      <td>The microwave, near-millimetre and infrared ...</td>\n",
              "      <td>arxiv</td>\n",
              "    </tr>\n",
              "  </tbody>\n",
              "</table>\n",
              "</div>"
            ],
            "text/plain": [
              "                                               title  ... source\n",
              "0  REITS: Reflective Surface for Intelligent Tran...  ...  arxiv\n",
              "1        Mirror Images and Division by Zero Calculus  ...  vixra\n",
              "2  Electromagnetic Waves in an Expanding 5D Universe  ...  vixra\n",
              "3                               Atomic-Scale Erector  ...  vixra\n",
              "4  Temperature dependence of microwave and THz di...  ...  arxiv\n",
              "\n",
              "[5 rows x 3 columns]"
            ]
          },
          "metadata": {},
          "execution_count": 5
        }
      ]
    },
    {
      "cell_type": "code",
      "metadata": {
        "colab": {
          "base_uri": "https://localhost:8080/",
          "height": 204
        },
        "id": "2fGp_OuN9WpZ",
        "outputId": "c605907e-5064-4075-cbe0-462639bcb182"
      },
      "source": [
        "large_train_df = pd.read_feather(large_train_file, columns=['title', 'abstract', 'source'])\n",
        "large_train_df.head()"
      ],
      "execution_count": 6,
      "outputs": [
        {
          "output_type": "execute_result",
          "data": {
            "text/html": [
              "<div>\n",
              "<style scoped>\n",
              "    .dataframe tbody tr th:only-of-type {\n",
              "        vertical-align: middle;\n",
              "    }\n",
              "\n",
              "    .dataframe tbody tr th {\n",
              "        vertical-align: top;\n",
              "    }\n",
              "\n",
              "    .dataframe thead th {\n",
              "        text-align: right;\n",
              "    }\n",
              "</style>\n",
              "<table border=\"1\" class=\"dataframe\">\n",
              "  <thead>\n",
              "    <tr style=\"text-align: right;\">\n",
              "      <th></th>\n",
              "      <th>title</th>\n",
              "      <th>abstract</th>\n",
              "      <th>source</th>\n",
              "    </tr>\n",
              "  </thead>\n",
              "  <tbody>\n",
              "    <tr>\n",
              "      <th>0</th>\n",
              "      <td>Graphene Helicoid: The Distinct Properties Pro...</td>\n",
              "      <td>The extremely high thermal conductivity of g...</td>\n",
              "      <td>arxiv</td>\n",
              "    </tr>\n",
              "    <tr>\n",
              "      <th>1</th>\n",
              "      <td>Harmonic decomposition of three-particle azimu...</td>\n",
              "      <td>We present measurements of three-particle co...</td>\n",
              "      <td>arxiv</td>\n",
              "    </tr>\n",
              "    <tr>\n",
              "      <th>2</th>\n",
              "      <td>Ergodicity of some open systems with particle-...</td>\n",
              "      <td>We consider steady states for a class of mec...</td>\n",
              "      <td>arxiv</td>\n",
              "    </tr>\n",
              "    <tr>\n",
              "      <th>3</th>\n",
              "      <td>Unconventional research in USSR and Russia: sh...</td>\n",
              "      <td>This work briefly surveys unconventional res...</td>\n",
              "      <td>arxiv</td>\n",
              "    </tr>\n",
              "    <tr>\n",
              "      <th>4</th>\n",
              "      <td>Complexity Measures from Interaction Structures</td>\n",
              "      <td>We evaluate new complexity measures on the s...</td>\n",
              "      <td>arxiv</td>\n",
              "    </tr>\n",
              "  </tbody>\n",
              "</table>\n",
              "</div>"
            ],
            "text/plain": [
              "                                               title  ... source\n",
              "0  Graphene Helicoid: The Distinct Properties Pro...  ...  arxiv\n",
              "1  Harmonic decomposition of three-particle azimu...  ...  arxiv\n",
              "2  Ergodicity of some open systems with particle-...  ...  arxiv\n",
              "3  Unconventional research in USSR and Russia: sh...  ...  arxiv\n",
              "4    Complexity Measures from Interaction Structures  ...  arxiv\n",
              "\n",
              "[5 rows x 3 columns]"
            ]
          },
          "metadata": {},
          "execution_count": 6
        }
      ]
    },
    {
      "cell_type": "markdown",
      "metadata": {
        "id": "qTmvuHOviSOH"
      },
      "source": [
        "# Importance of Normalizing"
      ]
    },
    {
      "cell_type": "markdown",
      "metadata": {
        "id": "I46x5D1cmTSh"
      },
      "source": [
        "Let's build up the sets of characters for arxiv and vixra papers for each dataset. Just look at the balanced dataset for now."
      ]
    },
    {
      "cell_type": "code",
      "metadata": {
        "id": "7qgSWkNMlOTr"
      },
      "source": [
        "balanced_train_df_dic = {key: balanced_train_df[balanced_train_df['source'] == key] for key in {'arxiv', 'vixra'}}"
      ],
      "execution_count": 7,
      "outputs": []
    },
    {
      "cell_type": "markdown",
      "metadata": {
        "id": "XbukHQCq_eAx"
      },
      "source": [
        "We perform some mild normalization at this stage by using `lower` on the text. In particular, we don't `strip`."
      ]
    },
    {
      "cell_type": "code",
      "metadata": {
        "id": "B6zt67sk_a5g"
      },
      "source": [
        "def mild_normalizer(s):\n",
        "    return s.lower()"
      ],
      "execution_count": 8,
      "outputs": []
    },
    {
      "cell_type": "code",
      "metadata": {
        "id": "lMM6_nCzmlfk"
      },
      "source": [
        "balanced_train_char_mild_norm_dic = {}\n",
        "for key, df in balanced_train_df_dic.items():\n",
        "    for text_col in ('title', 'abstract'):\n",
        "        temp_char_set = set(' ') # Start with a space in the set.\n",
        "        for text in df[text_col]:\n",
        "            for char in text:\n",
        "                new_char = mild_normalizer(char)\n",
        "                temp_char_set.add(new_char)\n",
        "        balanced_train_char_mild_norm_dic[f'{key}_{text_col}_chars'] = temp_char_set   "
      ],
      "execution_count": 9,
      "outputs": []
    },
    {
      "cell_type": "markdown",
      "metadata": {
        "id": "_L95z0_0oaX_"
      },
      "source": [
        "Check out the number of unique characters in each slice of the dataset:"
      ]
    },
    {
      "cell_type": "code",
      "metadata": {
        "colab": {
          "base_uri": "https://localhost:8080/"
        },
        "id": "Bt2BaoE0oELR",
        "outputId": "1823d0eb-bee0-405d-ab05-5cedba438055"
      },
      "source": [
        "print(*((key, len(val)) for key, val in balanced_train_char_mild_norm_dic.items()), sep='\\n')"
      ],
      "execution_count": 13,
      "outputs": [
        {
          "output_type": "stream",
          "name": "stdout",
          "text": [
            "('arxiv_title_chars', 71)\n",
            "('arxiv_abstract_chars', 71)\n",
            "('vixra_title_chars', 172)\n",
            "('vixra_abstract_chars', 393)\n"
          ]
        }
      ]
    },
    {
      "cell_type": "code",
      "metadata": {
        "id": "-fJyf9HB_1eh"
      },
      "source": [
        "balanced_train_char_mild_norm_differences_dic = {}\n",
        "for key1, key2 in (('vixra_title_chars', 'arxiv_title_chars'),\n",
        "             ('arxiv_title_chars', 'vixra_title_chars'),\n",
        "             ('vixra_abstract_chars', 'arxiv_abstract_chars'),\n",
        "             ('arxiv_abstract_chars', 'vixra_abstract_chars')\n",
        "             ):\n",
        "    balanced_train_char_mild_norm_differences_dic[f\"{key1.replace('_chars', '')}_only\"] = [char for char in balanced_train_char_mild_norm_dic[key1] - balanced_train_char_mild_norm_dic[key2]]"
      ],
      "execution_count": 14,
      "outputs": []
    },
    {
      "cell_type": "code",
      "metadata": {
        "colab": {
          "base_uri": "https://localhost:8080/"
        },
        "id": "Aigcb_7V_1ej",
        "outputId": "e25c67ab-ed29-4e30-9576-003ce3be1184"
      },
      "source": [
        "for key, item in balanced_train_char_mild_norm_differences_dic.items():\n",
        "    print(key, item)"
      ],
      "execution_count": 15,
      "outputs": [
        {
          "output_type": "stream",
          "name": "stdout",
          "text": [
            "vixra_title_only ['á', 'ﬀ', 'ș', 'ⅰ', '¨', 'σ', '−', 'ı', '∈', 'δ', 'ő', 'ï', '\\u200b', '\\u200e', '《', '�', 'ä', '‘', 'ù', 'ν', 'è', 'ú', '》', 'ξ', 'ψ', 'â', 'ç', '±', '—', '¸', 'à', 'ﬁ', '–', '∙', 'ö', '²', '’', 'τ', 'π', '′', '√', '«', 'æ', 'í', '§', '∗', '̶', 'µ', '\\u3000', 'ü', 'ó', '―', 'ñ', 'ğ', '“', 'ω', '¡', '．', 'γ', '¯', 'ℇ', '）', '¶', 'ε', 'ӧ', '÷', '×', 'ã', 'т', 'ş', 'ś', '≤', 'φ', 'μ', '»', 'ζ', '‑', '‒', '´', '”', '\\xa0', '：', 'ⅲ', 'ô', '─', 'ϕ', '∫', 'β', 'ê', 'α', '®', '≥', 'é', 'λ', '…', 'о', 'ă', '\\uf061', '≡', 'ﬂ', '→', '\\xad', '‐']\n",
            "arxiv_title_only ['\\x7f', '\\n']\n",
            "vixra_abstract_only ['з', '⊝', 'ସ', '⋯', 'ý', '\\uf040', 'ș', 'θ', 'ж', '③', '\\uf06d', 'i̇', '④', 'ϵ', 'ı', '−', '\\uf0e0', '∈', '、', 'а', 'प', 'ė', '∇', 'ℎ', '\\uf06c', '⁶', 'ä', 'ø', 'ž', 'η', '¥', '⋅', 'â', '̌', 'ϑ', '±', '\\u2009', 'ē', '\\uf0bb', 'ĝ', '\\uf05b', '⁴', '•', 'ﬁ', '☉', '\\uf065', '₁', 'ł', 'ö', '²', '⁻', 'н', 'π', '\\uf066', '·', '«', '┬', 'ℜ', '¤', '½', '≈', 'е', '├', '۰', 'í', '〗', '】', 'ƛ', 'х', ';', 'µ', '̶', '\\u3000', 'ü', 'ë', 'ﬃ', 'ℤ', 'ℝ', '⌈', '\\x0b', '\\uf071', 'ʹ', 'ι', '³', '█', '「', '△', 'ɸ', '≅', '≠', 'р', 'č', '̂', '̄', 'ʃ', 'ଷ', 'ń', 'ω', '₄', '⟩', '̈', '₂', 'و', 'с', '¯', '∑', 'έ', 'ρ', '∞', 'ӧ', '÷', '×', '\\u202b', '∅', '┤', 'ã', '©', '②', 'т', '\\uf02b', 'ś', '，', 'ş', '≤', '∝', 'φ', '‑', '℃', '‒', '≃', 'у', '∂', 'и', '´', '”', 'ō', '\\xa0', '：', 'ř', '∓', '⌋', '─', '⋃', 'ħ', 'ϕ', 'κ', '●', 'ς', 'ʻ', 'ο', 'ŭ', 'β', 'υ', '∆', 'λ', '〖', '…', 'ă', '\\u2061', '\\uf061', 'ḡ', '①', '≡', '\\uf070', 'ę', '⊕', '‐', '\\uf06a', 'á', '⊆', 'å', '⊗', 'ﬀ', 'м', 'ђ', 'σ', '\\uf044', '¨', '∪', 'ß', 'î', '≧', 'к', 'ì', 'ˆ', '∃', 'ʼ', 'δ', 'ѐ', 'ï', '˙', '́', '˜', '�', '《', '\\x0c', '\\u200b', '\\u200e', '\\uf07a', 'ⁿ', '‘', 'ù', 'ν', 'è', 'ú', '》', '\\uf0ae', 'ξ', 'ψ', '⌊', '⌉', 'ç', '∮', 'ି', 'ć', '—', '¸', '\\uf062', 'à', 'ℏ', '–', '\\r', 'ĉ', '∙', 'ℕ', '◦', 'ʘ', '\\uf063', '’', '„', 'τ', '↔', 'ț', '；', '′', '√', 'æ', '！', '∩', '∀', '§', 'ī', '∗', '∼', '\\uf0b7', '\\uf03e', 'ɛ', '＞', '⊂', '°', '\\u2005', '̃', 'ó', '―', 'ñ', '\\uf067', '」', 'ğ', '㎛', 'д', '“', 'š', '¡', '\\x02', 'γ', '¢', 'ф', '‟', '∤', 'ŝ', '▒', '\\uf0be', 'ū', 'ћ', '）', '⟨', '¶', 'ε', '【', '（', 'ℓ', '\\ufeff', 'ⅶ', 'в', '‰', 'μ', '»', 'º', 'ζ', 'ῤ', '≢', 'ό', 'ϛ', '™', 'ô', '\\uf02d', 'г', 'ţ', 'ˮ', '∫', 'ℍ', '\\u202c', 'ê', 'α', 'χ', '≥', '®', '\\uf0a5', 'ą', 'é', '⁄', 'о', '¾', '\\u202f', 'đ', '\\ue053', 'õ', '。', '→', '\\uf020', 'ﬂ', '\\xad', '¬']\n",
            "arxiv_abstract_only ['\\x7f']\n"
          ]
        }
      ]
    },
    {
      "cell_type": "markdown",
      "metadata": {
        "id": "7gnvWptk_1em"
      },
      "source": [
        "List all instances where a character appears only in arxiv or vixra and does so more than 1 percent of the time."
      ]
    },
    {
      "cell_type": "code",
      "metadata": {
        "colab": {
          "base_uri": "https://localhost:8080/"
        },
        "id": "UZetTVsV_1em",
        "outputId": "f923c66d-76b2-432f-ad5f-9de18031896d"
      },
      "source": [
        "for key, char_list in balanced_train_char_mild_norm_differences_dic.items():\n",
        "    for char in char_list:\n",
        "        key_split = key.split('_')\n",
        "        percent = 100 * balanced_train_df_dic[key_split[0]][key_split[1]].apply(lambda s: char in mild_normalizer(s)).mean()\n",
        "        if percent > 1:\n",
        "            print(f'{(char, ord(char))} appears in {percent:.3f} percent of {key_split[0]} {key_split[1]}s')"
      ],
      "execution_count": 16,
      "outputs": [
        {
          "output_type": "stream",
          "name": "stdout",
          "text": [
            "('’', 8217) appears in 1.827 percent of vixra titles\n",
            "('\\n', 10) appears in 41.495 percent of arxiv titles\n",
            "('ö', 246) appears in 1.007 percent of vixra abstracts\n",
            "('”', 8221) appears in 5.105 percent of vixra abstracts\n",
            "('‘', 8216) appears in 1.924 percent of vixra abstracts\n",
            "('—', 8212) appears in 2.043 percent of vixra abstracts\n",
            "('–', 8211) appears in 3.437 percent of vixra abstracts\n",
            "('\\r', 13) appears in 35.513 percent of vixra abstracts\n",
            "('’', 8217) appears in 11.963 percent of vixra abstracts\n",
            "('“', 8220) appears in 5.059 percent of vixra abstracts\n"
          ]
        }
      ]
    },
    {
      "cell_type": "markdown",
      "metadata": {
        "id": "Eevi0eqvtCW3"
      },
      "source": [
        "Let's look at where the `\\n` and `\\r` chars appear in arxiv titles and vixra abstracts, respectively."
      ]
    },
    {
      "cell_type": "code",
      "metadata": {
        "colab": {
          "base_uri": "https://localhost:8080/"
        },
        "id": "pTwJ5O0ftQ7H",
        "outputId": "cfae4ac7-7f5e-4409-f3dc-e4c5902999c5"
      },
      "source": [
        "for title in balanced_train_df_dic['arxiv']['title'][balanced_train_df_dic['arxiv']['title'].apply(lambda x: '\\n' in x)].sample(5):\n",
        "    print(title.__repr__(), '\\n') # For printing raw text.\n",
        "print(50 * '-')\n",
        "for text in balanced_train_df_dic['vixra']['abstract'][balanced_train_df_dic['vixra']['abstract'].apply(lambda x: '\\r' in x)].sample(5):\n",
        "    print(text.__repr__(), '\\n') # For printing raw text."
      ],
      "execution_count": 23,
      "outputs": [
        {
          "output_type": "stream",
          "name": "stdout",
          "text": [
            "'Estimation of local treatment under the binary instrumental variable\\n  model' \n",
            "\n",
            "'Full-color complex-amplitude vectorial holograms based on multi-freedom\\n  metasurfaces' \n",
            "\n",
            "'A Note on a Family of Proximal Gradient Methods for Quasi-static\\n  Incremental Problems in Elastoplastic Analysis' \n",
            "\n",
            "'Three-dimensional nonparaxial accelerating beams from the transverse\\n  Whittaker integral' \n",
            "\n",
            "'Tensile Deformation and Failure of Thin Films of Aging Laponite\\n  Suspension' \n",
            "\n",
            "--------------------------------------------------\n",
            "'In this paper, we have examined some important proposals of the big bang theory. We have also examined a few important interpretations of the quantum mechanics. We have shown that these proposals are not correct but not too far from the reality.\\r\\nWe have explained the mechanism of the quantum jump and quantum tunneling. We have also analyzed the peculiar motion of the galaxies.\\r\\nWe have shown that the singularity did appear everywhere and that the space emerged from the singularity has been expanding ever since the big bang. However, we have explained that the physical world is only a projection. The concept of multiverse or the principle of holographic universe are not correct, because the fact is that the universe is still being projected from each of the singularity. Every singularity projects the same universe because every singularity is a hologram, but this hologram is changing constantly because the information is being created continuously in the universe. We have also explained the mechanism that ensures that the hologram is updated constantly to ensure that at any given time, all the singularities project the same universe.' \n",
            "\n",
            "'Density of lines of the magnetodynamic field arising from two parallel\\r\\ncurrents is more in the regions out of the distance between the\\r\\ntwo wires and then the molecular magnetic dipoles of air are pulled toward\\r\\nthese regions and create a bigger pressure there which causes the\\r\\ntwo wires to be pushed (or to be attracted) toward each other. A similar\\r\\nreasoning applied conversely to two antiparallel currents justifies\\r\\ntheir repulsion arising from the created air pressure difference. Thus,\\r\\nmost probably, railgun will not work very well in the absence of the air.' \n",
            "\n",
            "'In the information era, enormous amounts of data have become available on hand to decision makers.\\r\\nBig data refers to datasets that are not only big, but also high in variety and velocity, which makes them\\r\\ndifficult to handle using traditional tools and techniques. Due to the rapid growth of such data, solutions\\r\\nneed to be studied and provided in order to handle and extract value and knowledge from these datasets.\\r\\nMachine learning is a method of data analysis that automates analytical model building. It is a branch of\\r\\nartificial intelligence based on the idea that systems can learn from data, identify patterns and make\\r\\ndecisions with minimal human intervention. Such minimal human intervention can be provided using big\\r\\ndata analytics, which is the application of advanced analytics techniques on big data. This paper aims to\\r\\nanalyse some of the different machine learning algorithms and methods which can be applied to big data\\r\\nanalysis, as well as the opportunities provided by the application of big data analytics in various decision\\r\\nmaking domains.' \n",
            "\n",
            "\"Electrical engineers at Duke University have devised a fully print-in-place technique for electronics that is gentle enough to work on delicate surfaces including paper and human skin. [36]\\r\\nCalled the Quantum Material Press, or QPress, this system will accelerate the discovery of next-generation materials for the emerging field of quantum information science (QIS). [35]\\r\\nA novel technique that nudges single atoms to switch places within an atomically thin material could bring scientists another step closer to realizing theoretical physicist Richard Feynman's vision of building tiny machines from the atom up. [34]\" \n",
            "\n",
            "'The Millennium Prize problem is solved because inconsistency of Navier-Stokes ﬂuid and the\\r\\nperfect ﬂuid is found. In several examples, the inconsistency of known Physics of ﬂuid is shown.' \n",
            "\n"
          ]
        }
      ]
    },
    {
      "cell_type": "markdown",
      "metadata": {
        "id": "1A_SyZpNC8jP"
      },
      "source": [
        "While some of this information might have signal, a lot of it is also not able to be seen by humans and would make the comparison unfair, e.g. the difference between underscores or appearance of carriage returns `\\r`"
      ]
    },
    {
      "cell_type": "markdown",
      "metadata": {
        "id": "zD13YR8vDUct"
      },
      "source": [
        "The bigger problem, it turns out, is the lack of `.strip()`-ing white space, particularly in the arxiv abstracts: every arxiv abstract ends in \\n, while none of the vixra ones do. They also seem to start with a space"
      ]
    },
    {
      "cell_type": "code",
      "metadata": {
        "colab": {
          "base_uri": "https://localhost:8080/"
        },
        "id": "oiX9cncPDe3b",
        "outputId": "72b693be-aa94-4a0a-9207-83e109bc2034"
      },
      "source": [
        "for key, df in balanced_train_df_dic.items():\n",
        "    for field in ('title', 'abstract'):\n",
        "        print(f\"Percent of \\\\n's appearing at end of {key} {field}s:\",df[field].apply(lambda s: s[-1] == '\\n').mean())\n",
        "for key, df in balanced_train_df_dic.items():\n",
        "    for field in ('title', 'abstract'):\n",
        "        print(f'Percent of blank spaces appearing at start of {key} {field}s:',df[field].apply(lambda s: s[0] == ' ').mean())\n",
        "print(50 * '-')\n",
        "for text in balanced_train_df_dic['arxiv']['abstract'].sample(5):\n",
        "    print(text.__repr__(), '\\n') # For printing raw text."
      ],
      "execution_count": 28,
      "outputs": [
        {
          "output_type": "stream",
          "name": "stdout",
          "text": [
            "Percent of \\n's appearing at end of arxiv titles: 0.0\n",
            "Percent of \\n's appearing at end of arxiv abstracts: 1.0\n",
            "Percent of \\n's appearing at end of vixra titles: 0.0\n",
            "Percent of \\n's appearing at end of vixra abstracts: 0.0\n",
            "Percent of blank spaces appearing at start of arxiv titles: 0.0\n",
            "Percent of blank spaces appearing at start of arxiv abstracts: 1.0\n",
            "Percent of blank spaces appearing at start of vixra titles: 0.0\n",
            "Percent of blank spaces appearing at start of vixra abstracts: 0.0\n",
            "--------------------------------------------------\n",
            "'  We study a one-dimensional model of a dislocation pileup driven by an\\nexternal stress and interacting with random quenched disorder, focusing on\\npredictability of the plastic deformation process. Upon quasistatically ramping\\nup the externally applied stress from zero the system responds by exhibiting an\\nirregular stress--strain curve consisting of a sequence of strain bursts, i.e.,\\ncritical-like dislocation avalanches. The strain bursts are power-law\\ndistributed up to a cutoff scale which increases with the stress level up to a\\ncritical flow stress value. There, the system undergoes a depinning phase\\ntransition and the dislocations start moving indefinitely, i.e., the strain\\nburst size diverges. Using sample-specific information about the pinning\\nlandscape as well as the initial dislocation configuration as input, we employ\\npredictive models such as linear regression, simple neural networks and\\nconvolutional neural networks to study the predictability of the simulated\\nstress--strain curves of individual samples. Our results show that the response\\nof the system -- including the flow stress value -- can be predicted quite\\nwell, with the correlation coefficient between predicted and actual stress\\nexhibiting a non-monotonic dependence on strain. We also discuss our attempts\\nto predict the individual strain bursts.\\n' \n",
            "\n",
            "'  The $\\\\beta^-$ decay of $^{47}$K to $^{47}$Ca is an appropriate mechanism for\\nbenchmarking interactions spanning the $sd$ and $pf$ shells, but current\\nknowledge of the $\\\\beta^-$-decay scheme is limited. We have performed a\\nhigh-resolution, high-efficiency study of the $\\\\beta^-$-decay of $^{47}$K with\\nthe GRIFFIN spectrometer at TRIUMF-ISAC. The study revealed 48 new transitions,\\na more precise value for the $^{47}$K half-life (17.38(3)~s), and new spin and\\nparity assignments for eight excited states. Levels placed for the first time\\nhere raise the highest state observed in $\\\\beta^-$ decay to within 568(3) keV\\nof the $Q$-value and confirm the previously measured large $\\\\beta^-$-decay\\nbranching ratios to the low-lying states. Previously unobserved\\n$\\\\beta^-$-feeding to 3/2$^+$ states between 4.5 and 6.1~MeV excitation energy\\nwas identified with a total $\\\\beta^-$-feeding intensity of 1.29(2)\\\\%. The sum\\nof the $B(GT)$ values for these states indicates that the $1s_{1/2}$ proton\\nhole strength near this excitation energy is comparable to the previously known\\n$1s_{1/2}$ proton and neutron hole strengths near 2.6 MeV.\\n' \n",
            "\n",
            "'  Cocalibrated G_2-structures are structures naturally induced on hypersurfaces\\nin Spin(7)-manifolds. Conversely, one may start with a seven-dimensional\\nmanifold M endowed with a cocalibrated G_2-structure and construct via the\\nHitchin flow a Spin(7)-manifold which contains M as a hypersurface. In this\\narticle, we consider left-invariant cocalibrated G_2-structures on Lie groups G\\nwhich are a direct product G=G_4\\\\times G_3 of a four-dimensional Lie group G_4\\nand a three-dimensional Lie group G_3. We achieve a full classification of the\\nLie groups G=G_4\\\\times G_3 which admit a left-invariant cocalibrated\\nG_2-structure.\\n' \n",
            "\n",
            "\"  We investigate the orbital evolution of planetesimals in a self-gravitating\\ncircumstellar disc in the size regime ($\\\\sim 1-5000$ km) where the\\nplanetesimals behave approximately as test particles in the disc's\\nnon-axisymmetric potential. We find that the particles respond to the\\nstochastic, regenerative spiral features in the disc by executing large random\\nexcursions (up to a factor of two in radius in $\\\\sim 1000$ years), although\\ntypical random orbital velocities are of order one tenth of the Keplerian\\nspeed. The limited time frame and small number of planetesimals modeled does\\nnot permit us to discern any {\\\\it net} direction of planetesimal migration. Our\\nchief conclusion is that the high eccentricities ($\\\\sim 0.1$) induced by\\ninteraction with spiral features in the disc is likely to be highly\\nunfavourable to the collisional growth of planetesimals in this size range\\nwhile the disc is in the self-gravitating regi me. Thus {\\\\it if}, as recently\\nargued by Rice et al 2004, 2006, the production of planetesimals gets under way\\nwhen the disc is in the self-gravitating regime (either at smaller planetesimal\\nsize scales, where gas drag is important, or via gravitational fragmentation of\\nthe solid component), then the planetesimals thus produced would not be able to\\ngrow collisionally until the disc ceased to be self-gravitating. It is unclear,\\nhowever,given the large amplitude excursions undergone by planetesimals in the\\nself-gravitating disc, whether they would be retained in the disc throughout\\nthis period, or whether they would instead be lost to the central star.\\n\" \n",
            "\n",
            "\"  (Abridged) We study the effects of a global magnetic field on\\nviscously-rotating and vertically-integrated accretion disks around compact\\nobjects using a self-similar treatment. We extend Akizuki & Fukue's work (2006)\\nby discussing a general magnetic field with three components ($r, \\\\phi, z$) in\\nadvection-dominated accretion flows (ADAFs). We also investigate the effects of\\na global magnetic field on flows with convection. For these purposes, we first\\nadopt a simple form of the kinematic viscosity $\\\\nu=\\\\alpha\\nc_{s}^{2}/\\\\Omega_{K}$ to study magnetized ADAFs. Then we consider a more\\nrealistic model of the kinematic viscosity $\\\\nu=\\\\alpha c_{s}H$, which makes the\\ninfall velocity increase but the sound speed and toroidal velocity decrease. We\\nnext use two methods to study magnetized flows with convection, i.e., we take\\nthe convective coefficient $\\\\alpha_{c}$ as a free parameter to discuss the\\neffects of convection for simplicity. We establish the $\\\\alpha_{c}-\\\\alpha$\\nrelation for magnetized flows using the mixing-length theory and compare this\\nrelation with the non-magnetized case. If $\\\\alpha_{c}$ is set as a free\\nparameter, then $|v_{r}|$ and $c_{s}$ increase for a large toroidal magnetic\\nfield, while $|v_{r}|$ decreases but $|v_{\\\\phi}|$ increases (or decreases) for\\na strong and dominated radial (or vertical) magnetic field with increasing\\n$\\\\alpha_{c}$. In addition, the magnetic field makes the $\\\\alpha_{c}-\\\\alpha$\\nrelation be distinct from that of non-magnetized flows, and allows the\\n$\\\\rho\\\\propto r^{-1}$ or $\\\\rho\\\\propto r^{-2}$ structure for magnetized\\nnon-accreting convection-dominated accretion flows with $\\\\alpha+g\\\\alpha_{c}< 0$\\n(where $g$ is the parameter to determine the condition of convective angular\\nmomentum transport).\\n\" \n",
            "\n"
          ]
        }
      ]
    },
    {
      "cell_type": "markdown",
      "metadata": {
        "id": "wIpB9xiXxwdw"
      },
      "source": [
        "Look at the other fields to check for similar issues. Nothing obvious."
      ]
    },
    {
      "cell_type": "code",
      "metadata": {
        "colab": {
          "base_uri": "https://localhost:8080/"
        },
        "id": "L4cE_3LixRnk",
        "outputId": "e6593011-21f2-4689-f454-38f13f0e086d"
      },
      "source": [
        "for text in balanced_train_df_dic['arxiv']['title'].sample(5):\n",
        "    print(text.__repr__(), '\\n') # For printing raw text.\n",
        "print(50 * '-')\n",
        "for text in balanced_train_df_dic['vixra']['title'].sample(5):\n",
        "    print(text.__repr__(), '\\n') # For printing raw text.\n",
        "print(50 * '-')\n",
        "for text in balanced_train_df_dic['vixra']['abstract'].sample(5):\n",
        "    print(text.__repr__(), '\\n') # For printing raw text."
      ],
      "execution_count": 29,
      "outputs": [
        {
          "output_type": "stream",
          "name": "stdout",
          "text": [
            "'Towards United Reasoning for Automatic Induction in Isabelle/HOL' \n",
            "\n",
            "'Pure exact structures and the pure derived category of a scheme' \n",
            "\n",
            "'Model-based actor-critic: GAN (model generator) + DRL (actor-critic) =>\\n  AGI' \n",
            "\n",
            "'On-Demand Density-Aware UAV Base Station 3D Placement for Arbitrarily\\n  Distributed Users with Guaranteed Data Rates' \n",
            "\n",
            "'Homogenization of heat diffusion in a cracked medium' \n",
            "\n",
            "--------------------------------------------------\n",
            "'An HCE8S Flow Diagram Incorporating the Latest Ideas' \n",
            "\n",
            "'Time Dilation and Space-Time Curvature' \n",
            "\n",
            "\"The Elementary Proof of Fermat's Last Theorem (Complete)\" \n",
            "\n",
            "'Biographical Reflections on an ‘Emperor’s New Clothes’ the Immanent Completion of the Tools of Epistemology' \n",
            "\n",
            "'Hidden Mass of a Particle (Body). Mass Balance' \n",
            "\n",
            "--------------------------------------------------\n",
            "\"2012 seems to become a year to be celebrated in the high energy physics community. ``As a layman, I would say we have it!'' said CERN director general Rolf-Dieter Heuer at the press conference on July 4, 2012, announcing the discovery of a footprint of `something' in the LHC proton collision data. Evidently, such a short statement was necessary because the expert's account of the \\r\\ndiscovery is a long story to tell. As physicists, we are seeking something in between. We would be curious if there are discussions in the community along our questions; in any case, they don't seem to have got outside so far. Therefore, we would like to invite a broader communication between the particle physics community and the rest of physics.\" \n",
            "\n",
            "'Using the standard Cayley transform and elementary tools it is reiterated\\r\\nthat the conformal compactification of the Minkowski space involves\\r\\nnot only the �cone at infinity� but also the 2-sphere that is at the base of\\r\\nthis cone. We represent this 2-sphere by two additionally marked points\\r\\non the Penrose diagram for the compactified Minkowski space. Lacks and\\r\\nomissions in the existing literature are described, Penrose diagrams are\\r\\nderived for both, simple compactification and its double covering space,\\r\\nwhich is discussed in some detail using both the U(2) approach and the exterior\\r\\nand Clifford algebra methods. Using the Hodge &star operator twistors\\r\\n(i.e. vectors of the pseudo-Hermitian space H2;2) are realized as spinors\\r\\n(i.e., vectors of a faithful irreducible representation of the even Clifford\\r\\nalgebra) for the conformal group SO(4,2)/Z2. Killing vector fields corresponding\\r\\nto the left action of U(2) on itself are explicitly calculated.\\r\\nIsotropic cones and corresponding projective quadrics in Hp;q are also\\r\\ndiscussed. Applications to flat conformal structures, including the normal\\r\\nCartan connection and conformal development has been discussed in some\\r\\ndetail.' \n",
            "\n",
            "\"We describe the Biblical work of ages as a time travel program for saving humanity from extinction. God's existence is proven as a consequence of the existence of time travel, which is supposed. We present the case that Abraham's grandson Jacob, also called Israel, is Satan. We make the case that the Israelites are described as God's chosen people in the Bible despite their identity as the children of Satan because God's Messiah is descended from Abraham through Satan. They are chosen as the ancestors of the Messiah rather than as Satan's children. We propose an interpretation in which God commanded Abraham to kill his son Isaac to prevent Isaac from becoming the father of Satan. We suggest that God stayed Abraham's hand above Isaac because preventing the existence of Satan would also prevent the existence of Satan's descendant the Messiah. The history of the Israelites is summarized through Jesus and Paul. This paper is written so that the number of believers in the world will increase.\" \n",
            "\n",
            "'Customer reviews are integral to retail businesses. This paper demonstrates new methods for  ranking the most representative and interesting snippets within reviews posted by their customers.' \n",
            "\n",
            "'Agricultural Research Service (ARS) scientists, in cooperation with Pacific Biosciences and Penn State University, have published the first genome of the invasive Spotted Lanternfly (SLF) in the journal Gigascience and they did it from a single caught-in-the-wild specimen. [35]\\r\\nPredicting and controlling disease outbreaks would be easier and more reliable with the wider application of mathematical modelling, according to a new study. [34]\\r\\nScientists have uncovered a novel antibiotic-free approach that could help prevent and treat one of the most widespread bacterial pathogens, using nanocapsules made of natural ingredients. [33]' \n",
            "\n"
          ]
        }
      ]
    },
    {
      "cell_type": "markdown",
      "metadata": {
        "id": "7ooms6jiEJNM"
      },
      "source": [
        "This lets any ML architecture easily distinguish arxiv abstracts, if not handled."
      ]
    },
    {
      "cell_type": "markdown",
      "metadata": {
        "id": "e2vXKM7jETiu"
      },
      "source": [
        "To this end, let us apply a much stronger normalization where all text is converted to ASCII, spaces around non-alphanumeric chars are inserted, and all control chars are mapped to a blank space. We import `text_normalizer` from our custom package as the strong normalizer."
      ]
    },
    {
      "cell_type": "code",
      "metadata": {
        "id": "9IpODhMsEe5F"
      },
      "source": [
        "%%capture text_normalizer_import --no-stderr\n",
        "!pip install unidecode wandb pytorch-lightning\n",
        "from arxiv_vixra_models import text_normalizer\n",
        "from unidecode import unidecode"
      ],
      "execution_count": 30,
      "outputs": []
    },
    {
      "cell_type": "code",
      "metadata": {
        "id": "H9S59UvBEs8K"
      },
      "source": [
        "balanced_train_char_strong_norm_dic = {}\n",
        "for key, df in balanced_train_df_dic.items():\n",
        "    for text_col in ('title', 'abstract'):\n",
        "        temp_char_set = set(' ') # Start with a space in the set.\n",
        "        for text in df[text_col]:\n",
        "            for char in text:\n",
        "                new_char = text_normalizer(char)\n",
        "                # Sometimes text_normalizer maps one non-ASCII char to multiple ASCII chars.\n",
        "                for split_char in new_char:\n",
        "                    temp_char_set.add(split_char)\n",
        "        balanced_train_char_strong_norm_dic[f'{key}_{text_col}_chars'] = temp_char_set   "
      ],
      "execution_count": 31,
      "outputs": []
    },
    {
      "cell_type": "markdown",
      "metadata": {
        "id": "t0xcOZB0Es8K"
      },
      "source": [
        "Check out the number of unique characters in each slice of the dataset:"
      ]
    },
    {
      "cell_type": "code",
      "metadata": {
        "colab": {
          "base_uri": "https://localhost:8080/"
        },
        "id": "hVWu-vm7Es8K",
        "outputId": "7a15caf3-fae3-45ab-a87b-5b30ac33a943"
      },
      "source": [
        "print(*((key, len(val)) for key, val in balanced_train_char_strong_norm_dic.items()), sep='\\n')"
      ],
      "execution_count": 36,
      "outputs": [
        {
          "output_type": "stream",
          "name": "stdout",
          "text": [
            "('arxiv_title_chars', 69)\n",
            "('arxiv_abstract_chars', 69)\n",
            "('vixra_title_chars', 69)\n",
            "('vixra_abstract_chars', 69)\n"
          ]
        }
      ]
    },
    {
      "cell_type": "code",
      "metadata": {
        "id": "vy0n4mVyEs8L"
      },
      "source": [
        "balanced_train_char_strong_norm_differences_dic = {}\n",
        "for key1, key2 in (('vixra_title_chars', 'arxiv_title_chars'),\n",
        "             ('arxiv_title_chars', 'vixra_title_chars'),\n",
        "             ('vixra_abstract_chars', 'arxiv_abstract_chars'),\n",
        "             ('arxiv_abstract_chars', 'vixra_abstract_chars')\n",
        "             ):\n",
        "    balanced_train_char_strong_norm_differences_dic[f\"{key1.replace('_chars', '')}_only\"] = [char for char in balanced_train_char_strong_norm_dic[key1] - balanced_train_char_strong_norm_dic[key2]]"
      ],
      "execution_count": 37,
      "outputs": []
    },
    {
      "cell_type": "code",
      "metadata": {
        "colab": {
          "base_uri": "https://localhost:8080/"
        },
        "id": "611c8-yFEs8M",
        "outputId": "e88dd319-665b-4989-94c5-67f51e53b13a"
      },
      "source": [
        "for key, item in balanced_train_char_strong_norm_differences_dic.items():\n",
        "    print(key, item)"
      ],
      "execution_count": 38,
      "outputs": [
        {
          "output_type": "stream",
          "name": "stdout",
          "text": [
            "vixra_title_only []\n",
            "arxiv_title_only []\n",
            "vixra_abstract_only []\n",
            "arxiv_abstract_only []\n"
          ]
        }
      ]
    },
    {
      "cell_type": "markdown",
      "metadata": {
        "id": "3kMMLpIUEs8M"
      },
      "source": [
        "Percentages:"
      ]
    },
    {
      "cell_type": "code",
      "metadata": {
        "id": "O9YXrGp2Es8M"
      },
      "source": [
        "for key, char_list in balanced_train_char_strong_norm_differences_dic.items():\n",
        "    for char in char_list:\n",
        "        key_split = key.split('_')\n",
        "        percent = 100 * balanced_train_df_dic[key_split[0]][key_split[1]].apply(lambda s: char in text_normalizer(s)).mean()\n",
        "        print(f'{(char, ord(char))} appears in {percent:.3f} percent of {key_split[0]} {key_split[1]}s')"
      ],
      "execution_count": 40,
      "outputs": []
    },
    {
      "cell_type": "markdown",
      "metadata": {
        "id": "y6osNDMkKvRq"
      },
      "source": [
        "This corresponds to just O(1) titles in the set"
      ]
    },
    {
      "cell_type": "markdown",
      "metadata": {
        "id": "DNenhy0UK2Ew"
      },
      "source": [
        "The char set we are using above is just all lower, non-control ASCII chars:"
      ]
    },
    {
      "cell_type": "code",
      "metadata": {
        "id": "HVyxMFxSLK_W",
        "colab": {
          "base_uri": "https://localhost:8080/"
        },
        "outputId": "84861558-f27d-4fa0-b53b-aadf25aae10a"
      },
      "source": [
        "import unicodedata\n",
        "ascii_all_lower = set(chr(i).lower() for i in range(128))\n",
        "ascii_control = set(ch for ch in ascii_all_lower if unicodedata.category(ch)[0]=='C')\n",
        "ascii_all_lower_alpha_num = {ch for ch in ascii_all_lower if ch.isalnum()}\n",
        "ascii_punctuation = ascii_all_lower - ascii_control - ascii_all_lower_alpha_num\n",
        "normalized_char_set = ascii_all_lower_alpha_num | ascii_punctuation\n",
        "print(normalized_char_set)\n",
        "print(f'{len(normalized_char_set)} total characters.')"
      ],
      "execution_count": 42,
      "outputs": [
        {
          "output_type": "stream",
          "name": "stdout",
          "text": [
            "{'+', '@', '<', ';', '_', '7', '0', 't', '%', '9', '^', '?', '*', 'p', '#', 'o', 'i', '6', \"'\", '|', '~', 'g', '5', ',', 'e', 'z', 'l', 'u', '3', '1', '{', 's', '(', 'c', '=', 'w', 'v', '$', '}', 'a', 'f', 'n', '8', '-', 'y', 'm', 'k', 'x', 'd', '2', 'b', ' ', 'h', '4', ':', '>', '&', ']', '/', '.', '\"', '\\\\', '!', 'q', ')', '`', 'r', 'j', '['}\n",
            "69 total characters.\n"
          ]
        }
      ]
    },
    {
      "cell_type": "markdown",
      "metadata": {
        "id": "PkttkrJogXHy"
      },
      "source": [
        "Export as a feather file."
      ]
    },
    {
      "cell_type": "code",
      "metadata": {
        "id": "Ia4Tj3ayghaf"
      },
      "source": [
        "normalized_char_set = set()\n",
        "for char_set in balanced_train_char_strong_norm_dic.values():\n",
        "    normalized_char_set |= char_set\n",
        "normalized_char_list = sorted(list(normalized_char_set))\n",
        "# Sorting should place ' ' at index 0. Padding will be performed based on this assumption.\n",
        "assert normalized_char_list[0] == ' '\n",
        "normalized_char_dic = {char: idx for idx, char in enumerate(normalized_char_list)}\n",
        "normalized_char_df = pd.DataFrame(list(normalized_char_dic.items()), columns=['char', 'idx'])\n",
        "normalized_char_df.to_feather(FOLDERNAME + 'data/data_splits/normalized_char_set.feather')"
      ],
      "execution_count": 43,
      "outputs": []
    },
    {
      "cell_type": "markdown",
      "metadata": {
        "id": "Dly_4WpeLt_5"
      },
      "source": [
        "# Normalizing the Text\n",
        "\n",
        "Go through and strongly normalize the text everywhere, via `text_normalizer`."
      ]
    },
    {
      "cell_type": "markdown",
      "metadata": {
        "id": "TEbxNIi7gMXl"
      },
      "source": [
        "Examine the output of the normalizer."
      ]
    },
    {
      "cell_type": "code",
      "metadata": {
        "colab": {
          "base_uri": "https://localhost:8080/"
        },
        "id": "8X_rOOP6fRkL",
        "outputId": "5ba3c789-ed89-417c-d530-b64eb14505b3"
      },
      "source": [
        "text_normalizer_test_samples = balanced_train_df.head(10).abstract\n",
        "for text in text_normalizer_test_samples:\n",
        "    print(text + '\\n', text_normalizer(text), 20 * '-', sep='\\n')"
      ],
      "execution_count": 45,
      "outputs": [
        {
          "output_type": "stream",
          "name": "stdout",
          "text": [
            "  Autonomous vehicles are predicted to dominate the transportation industry in\n",
            "the foreseeable future. Safety is one of the major challenges to the early\n",
            "deployment of self-driving systems. To ensure safety, self-driving vehicles\n",
            "must sense and detect humans, other vehicles, and road infrastructure\n",
            "accurately, robustly, and timely. However, existing sensing techniques used by\n",
            "self-driving vehicles may not be absolutely reliable. In this paper, we design\n",
            "REITS, a system to improve the reliability of RF-based sensing modules for\n",
            "autonomous vehicles. We conduct theoretical analysis on possible failures of\n",
            "existing RF-based sensing systems. Based on the analysis, REITS adopts a\n",
            "multi-antenna design, which enables constructive blind beamforming to return an\n",
            "enhanced radar signal in the incident direction. REITS can also let the\n",
            "existing radar system sense identification information by switching between\n",
            "constructive beamforming state and destructive beamforming state. Preliminary\n",
            "results show that REITS improves the detection distance of a self-driving car\n",
            "radar by a factor of 3.63.\n",
            "\n",
            "\n",
            "autonomous vehicles are predicted to dominate the transportation industry in the foreseeable future . safety is one of the major challenges to the early deployment of self - driving systems . to ensure safety , self - driving vehicles must sense and detect humans , other vehicles , and road infrastructure accurately , robustly , and timely . however , existing sensing techniques used by self - driving vehicles may not be absolutely reliable . in this paper , we design reits , a system to improve the reliability of rf - based sensing modules for autonomous vehicles . we conduct theoretical analysis on possible failures of existing rf - based sensing systems . based on the analysis , reits adopts a multi - antenna design , which enables constructive blind beamforming to return an enhanced radar signal in the incident direction . reits can also let the existing radar system sense identification information by switching between constructive beamforming state and destructive beamforming state . preliminary results show that reits improves the detection distance of a self - driving car radar by a factor of 3 . 63 .\n",
            "--------------------\n",
            "Very classical results on the mirror images of the centers of circles and bolls should be the centers as the typical results of  the division by zero calculus. For their importance, we would like to  discuss them in a self-contained manner.\n",
            "\n",
            "very classical results on the mirror images of the centers of circles and bolls should be the centers as the typical results of the division by zero calculus . for their importance , we would like to discuss them in a self - contained manner .\n",
            "--------------------\n",
            "Electromagnetism is analyzed in a 5D expanding universe. Compared to the usual 4D description of electrodynamics it can be viewed as adding effective charge and current densities to the universe that are static in time. These lead to effective polarization and magnetization of the vacuum, which is most significant at high redshift. Electromagnetic waves propagate but group and phase velocities are dispersive. This introduces a new energy scale to the cosmos. And as a result electromagnetic waves propagate with superluminal speeds but no energy is transmitted faster than c.\n",
            "\n",
            "electromagnetism is analyzed in a 5d expanding universe . compared to the usual 4d description of electrodynamics it can be viewed as adding effective charge and current densities to the universe that are static in time . these lead to effective polarization and magnetization of the vacuum , which is most significant at high redshift . electromagnetic waves propagate but group and phase velocities are dispersive . this introduces a new energy scale to the cosmos . and as a result electromagnetic waves propagate with superluminal speeds but no energy is transmitted faster than c .\n",
            "--------------------\n",
            "To design buildings that can withstand the largest of storms, Kostas Keremidis, a Ph.D. candidate at the MIT Concrete Sustainability Hub, is using research at the smallest scale—that of the atom. [22]\r\n",
            "\"The point of our work is to try to get more people to think that maybe artificial gravity isn't so crazy,\" she said. \"Maybe it has a place outside of science fiction.\" [21]\r\n",
            "Scientists at the University of Glasgow and collaborators have now developed a multimaterial coating design for the mirrors used in gravitational wave detectors. [20]\n",
            "\n",
            "to design buildings that can withstand the largest of storms , kostas keremidis , a ph . d . candidate at the mit concrete sustainability hub , is using research at the smallest scale - - that of the atom . [ 22 ] \" the point of our work is to try to get more people to think that maybe artificial gravity isn ' t so crazy , \" she said . \" maybe it has a place outside of science fiction . \" [ 21 ] scientists at the university of glasgow and collaborators have now developed a multimaterial coating design for the mirrors used in gravitational wave detectors . [ 20 ]\n",
            "--------------------\n",
            "  The microwave, near-millimetre and infrared (IR) dielectric response of\n",
            "Srn+1TinO3n+1 (n=1-4) Ruddlesden-Popper homologous series was studied in the\n",
            "temperature range 10 to 300 K. Remarkable softening of the polar optical mode\n",
            "was observed in Sr4Ti3O10 and Sr5Ti4O13 which explains the increase in\n",
            "microwave permittivity and dielectric loss upon cooling. However, both samples\n",
            "have a distinct content of SrTiO3 dispersed between SrO layers. It is proposed\n",
            "therefore that the observed soft mode originates from the SrTiO3 microscopic\n",
            "inclusions.\n",
            "\n",
            "\n",
            "the microwave , near - millimetre and infrared ( ir ) dielectric response of srn + 1tino3n + 1 ( n = 1 - 4 ) ruddlesden - popper homologous series was studied in the temperature range 10 to 300 k . remarkable softening of the polar optical mode was observed in sr4ti3o10 and sr5ti4o13 which explains the increase in microwave permittivity and dielectric loss upon cooling . however , both samples have a distinct content of srtio3 dispersed between sro layers . it is proposed therefore that the observed soft mode originates from the srtio3 microscopic inclusions .\n",
            "--------------------\n",
            "This paper, a follow-on from seven previous papers [1]-[7], will discuss historical notions of time in science, time as a concept applied to scientific theory, and then discuss those problems that have been presented to science in using certain axiom definitions of time. The newly proposed axiom for time is re-presented as an algorithm that can knit together much of what is known of physical scientific data, including Einstein’s well-known equation. The quest of this paper is to demonstrate that it is possible to marry up many known scientific principles using a common mathematical “function” for time, as the golden ratio time-equation.\n",
            "\n",
            "this paper , a follow - on from seven previous papers [ 1 ] - [ 7 ] , will discuss historical notions of time in science , time as a concept applied to scientific theory , and then discuss those problems that have been presented to science in using certain axiom definitions of time . the newly proposed axiom for time is re - presented as an algorithm that can knit together much of what is known of physical scientific data , including einstein ' s well - known equation . the quest of this paper is to demonstrate that it is possible to marry up many known scientific principles using a common mathematical \" function \" for time , as the golden ratio time - equation .\n",
            "--------------------\n",
            "Skin cancer is one of the deadly types of cancer and is common in the world. Recently, there has been a huge jump in the rate of people getting skin cancer. For this reason, the number of studies on skin cancer classification with deep learning are increasing day by day. For the growth of work in this area, the International Skin Imaging Collaboration (ISIC) organization was established and they created an open dataset archive. In this study, images were taken from ISIC 2017 Challenge. The skin cancer images taken were preprocessed and data augmented. Later, these images were trained with transfer learning and fine-tuning approach and deep learning models were created in this way. 3 different mobile deep learning models and 3 different batch size values were determined for each, and a total of 9 models were created. Among these models, the NASNetMobile model with 16 batch size got the best result. The accuracy value of this model is 82.00%, the precision value is 81.77% and the F1 score value is 0.8038. Our method is to benchmark mobile deep learning models which have few parameters and compare the results of the models.\n",
            "\n",
            "skin cancer is one of the deadly types of cancer and is common in the world . recently , there has been a huge jump in the rate of people getting skin cancer . for this reason , the number of studies on skin cancer classification with deep learning are increasing day by day . for the growth of work in this area , the international skin imaging collaboration ( isic ) organization was established and they created an open dataset archive . in this study , images were taken from isic 2017 challenge . the skin cancer images taken were preprocessed and data augmented . later , these images were trained with transfer learning and fine - tuning approach and deep learning models were created in this way . 3 different mobile deep learning models and 3 different batch size values were determined for each , and a total of 9 models were created . among these models , the nasnetmobile model with 16 batch size got the best result . the accuracy value of this model is 82 . 00 % , the precision value is 81 . 77 % and the f1 score value is 0 . 8038 . our method is to benchmark mobile deep learning models which have few parameters and compare the results of the models .\n",
            "--------------------\n",
            "Researches at Stockholm University are getting closer to light dark-matter particle models. Observations rule out some axion-like particles in the quest for the content of dark matter. The article is now published in the Physical Review Letters. [15] Scientists have detected a mysterious X-ray signal that could be caused by dark matter streaming out of our Sun's core. Hidden photons are predicted in some extensions of the Standard Model of particle physics, and unlike WIMPs they would interact electromagnetically with normal matter. In particle physics and astrophysics, weakly interacting massive particles, or WIMPs, are among the leading hypothetical particle physics candidates for dark matter. The gravitational force attracting the matter, causing concentration of the matter in a small space and leaving much space with low matter concentration: dark matter and energy. There is an asymmetry between the mass of the electric charges, for example proton and electron, can understood by the asymmetrical Planck Distribution Law. This temperature dependent energy distribution is asymmetric around the maximum intensity, where the annihilation of matter and antimatter is a high probability event. The asymmetric sides are creating different frequencies of electromagnetic radiations being in the same intensity level and compensating each other. One of these compensating ratios is the electron – proton mass ratio. The lower energy side has no compensating intensity level, it is the dark energy and the corresponding matter is the dark matter.\n",
            "\n",
            "researches at stockholm university are getting closer to light dark - matter particle models . observations rule out some axion - like particles in the quest for the content of dark matter . the article is now published in the physical review letters . [ 15 ] scientists have detected a mysterious x - ray signal that could be caused by dark matter streaming out of our sun ' s core . hidden photons are predicted in some extensions of the standard model of particle physics , and unlike wimps they would interact electromagnetically with normal matter . in particle physics and astrophysics , weakly interacting massive particles , or wimps , are among the leading hypothetical particle physics candidates for dark matter . the gravitational force attracting the matter , causing concentration of the matter in a small space and leaving much space with low matter concentration : dark matter and energy . there is an asymmetry between the mass of the electric charges , for example proton and electron , can understood by the asymmetrical planck distribution law . this temperature dependent energy distribution is asymmetric around the maximum intensity , where the annihilation of matter and antimatter is a high probability event . the asymmetric sides are creating different frequencies of electromagnetic radiations being in the same intensity level and compensating each other . one of these compensating ratios is the electron - proton mass ratio . the lower energy side has no compensating intensity level , it is the dark energy and the corresponding matter is the dark matter .\n",
            "--------------------\n",
            "  In this manuscript, we present a robust method for glaucoma screening from\n",
            "fundus images using an ensemble of convolutional neural networks (CNNs). The\n",
            "pipeline comprises of first segmenting the optic disk and optic cup from the\n",
            "fundus image, then extracting a patch centered around the optic disk and\n",
            "subsequently feeding to the classification network to differentiate the image\n",
            "as diseased or healthy. In the segmentation network, apart from the image, we\n",
            "make use of spatial co-ordinate (X \\& Y) space so as to learn the structure of\n",
            "interest better. The classification network is composed of a DenseNet201 and a\n",
            "ResNet18 which were pre-trained on a large cohort of natural images. On the\n",
            "REFUGE validation data (n=400), the segmentation network achieved a dice score\n",
            "of 0.88 and 0.64 for optic disc and optic cup respectively. For the tasking\n",
            "differentiating images affected with glaucoma from healthy images, the area\n",
            "under the ROC curve was observed to be 0.85.\n",
            "\n",
            "\n",
            "in this manuscript , we present a robust method for glaucoma screening from fundus images using an ensemble of convolutional neural networks ( cnns ) . the pipeline comprises of first segmenting the optic disk and optic cup from the fundus image , then extracting a patch centered around the optic disk and subsequently feeding to the classification network to differentiate the image as diseased or healthy . in the segmentation network , apart from the image , we make use of spatial co - ordinate ( x \\ & y ) space so as to learn the structure of interest better . the classification network is composed of a densenet201 and a resnet18 which were pre - trained on a large cohort of natural images . on the refuge validation data ( n = 400 ) , the segmentation network achieved a dice score of 0 . 88 and 0 . 64 for optic disc and optic cup respectively . for the tasking differentiating images affected with glaucoma from healthy images , the area under the roc curve was observed to be 0 . 85 .\n",
            "--------------------\n",
            "  Sanctioned by its constitution, India is home to an elaborate affirmative\n",
            "action program for allocation of public jobs, where historically discriminated\n",
            "groups are protected with vertical reservations implemented as \"set asides,\"\n",
            "and other disadvantaged groups are protected with horizontal reservations\n",
            "implemented as \"minimum guarantees.\" Concurrent implementation of these two\n",
            "policies with overlapping beneficiaries makes this program more complex than\n",
            "others elsewhere. An allocation mechanism mandated by the Supreme Court\n",
            "judgement Anil Kumar Gupta vs. Uttar Pradesh (1995) suffers from a number of\n",
            "anomalies, including disadvantaged candidates losing positions to privileged\n",
            "candidates of lower merit, triggering countless litigations and disarray in the\n",
            "country. Foretelling a recent reform in India, we propose an alternative\n",
            "mechanism that resolves all anomalies, and uniquely characterize it with\n",
            "desiderata reflecting the laws of India. Subsequently reinvented with an August\n",
            "2020 High Court judgement and mandated for the state of Gujarat, our mechanism\n",
            "is endorsed for India with a December 2020 judgement of the Supreme Court.\n",
            "\n",
            "\n",
            "sanctioned by its constitution , india is home to an elaborate affirmative action program for allocation of public jobs , where historically discriminated groups are protected with vertical reservations implemented as \" set asides , \" and other disadvantaged groups are protected with horizontal reservations implemented as \" minimum guarantees . \" concurrent implementation of these two policies with overlapping beneficiaries makes this program more complex than others elsewhere . an allocation mechanism mandated by the supreme court judgement anil kumar gupta vs . uttar pradesh ( 1995 ) suffers from a number of anomalies , including disadvantaged candidates losing positions to privileged candidates of lower merit , triggering countless litigations and disarray in the country . foretelling a recent reform in india , we propose an alternative mechanism that resolves all anomalies , and uniquely characterize it with desiderata reflecting the laws of india . subsequently reinvented with an august 2020 high court judgement and mandated for the state of gujarat , our mechanism is endorsed for india with a december 2020 judgement of the supreme court .\n",
            "--------------------\n"
          ]
        }
      ]
    },
    {
      "cell_type": "markdown",
      "metadata": {
        "id": "UOBFxAv4YTX2"
      },
      "source": [
        "Normalize and export all data sets"
      ]
    },
    {
      "cell_type": "code",
      "metadata": {
        "colab": {
          "base_uri": "https://localhost:8080/"
        },
        "id": "YtcrvhJ-MWZr",
        "outputId": "43cfd4d5-aa06-4690-a393-1b7e427c431e"
      },
      "source": [
        "all_file_names = ('balanced_filtered_data_train.feather',\n",
        "                  'balanced_filtered_data_validation.feather', \n",
        "                  'balanced_filtered_data_test.feather',\n",
        "                  'large_filtered_data_train.feather'\n",
        "                  )\n",
        "df_list = []\n",
        "for f in all_file_names:\n",
        "    path = FOLDERNAME + SUBDIR + f\n",
        "    !cp '{path}' .\n",
        "    df_list.append(pd.read_feather(f, columns=['title', 'abstract', 'source']))\n",
        "    temp_df = df_list[-1]\n",
        "    temp_df['title'] = temp_df['title'].apply(text_normalizer)\n",
        "    temp_df['abstract'] = temp_df['abstract'].apply(text_normalizer)\n",
        "    idx = f.find('_data')\n",
        "    out_name = f[:idx] + '_normalized' + f[idx:]\n",
        "    print(f'saved {out_name}')\n",
        "    temp_df.to_feather(FOLDERNAME + SUBDIR + out_name)"
      ],
      "execution_count": null,
      "outputs": [
        {
          "output_type": "stream",
          "name": "stdout",
          "text": [
            "saved balanced_filtered_normalized_data_train.feather\n",
            "saved balanced_filtered_normalized_data_validation.feather\n",
            "saved balanced_filtered_normalized_data_test.feather\n",
            "saved large_filtered_normalized_data_train.feather\n"
          ]
        }
      ]
    },
    {
      "cell_type": "markdown",
      "metadata": {
        "id": "ovrYMa0UYh3v"
      },
      "source": [
        "We will work with the below training sets for the remainder of the notebook."
      ]
    },
    {
      "cell_type": "code",
      "metadata": {
        "id": "X_bQckbGAKnm"
      },
      "source": [
        "balanced_train_normalized_df = df_list[all_file_names.index('balanced_filtered_data_train.feather')]\n",
        "balanced_validation_normalized_df = df_list[all_file_names.index('balanced_filtered_data_validation.feather')]\n",
        "large_train_normalized_df = df_list[all_file_names.index('large_filtered_data_train.feather')]"
      ],
      "execution_count": null,
      "outputs": []
    },
    {
      "cell_type": "markdown",
      "metadata": {
        "id": "x2mtfUlRROkw"
      },
      "source": [
        "The normalization process (the insertion of spaces around punctuation, in particular) increases the char length and word count of the various fields that we have previously cut on.  Check that the increase is not unacceptably drastic."
      ]
    },
    {
      "cell_type": "code",
      "metadata": {
        "colab": {
          "base_uri": "https://localhost:8080/"
        },
        "id": "JpxO_8sSQc4l",
        "outputId": "96f98c65-8b1d-48b3-edba-cab205bde10a"
      },
      "source": [
        "print(balanced_train_normalized_df['title'].apply(lambda x: len(x) > 128).mean(),\n",
        "      balanced_train_normalized_df['abstract'].apply(lambda x: len(x) > 2048).mean(),\n",
        "      balanced_train_normalized_df['title'].apply(lambda x: len(x.split()) > 16).mean(),\n",
        "      balanced_train_normalized_df['abstract'].apply(lambda x: len(x.split()) > 256).mean(),\n",
        "      sep='\\n')"
      ],
      "execution_count": null,
      "outputs": [
        {
          "output_type": "stream",
          "name": "stdout",
          "text": [
            "0.00862216151613454\n",
            "0.00011382391440441637\n",
            "0.08459962438108247\n",
            "0.08607933526833988\n"
          ]
        }
      ]
    },
    {
      "cell_type": "markdown",
      "metadata": {
        "id": "0_j2FzjOWUuy"
      },
      "source": [
        "The overflow for char len is less than 1%, but for word counts it's ~10%, which is not great.  Increasing the threshold by 50% is brings the cut down below 1%, so we will increase the `seq_len` threshold for embedding models by a similar factor during training, as to not unneccessarily cut out additional data."
      ]
    },
    {
      "cell_type": "code",
      "metadata": {
        "colab": {
          "base_uri": "https://localhost:8080/"
        },
        "id": "IPwZ4i_CUxxS",
        "outputId": "e0b7c70a-983c-41b4-f3a7-c95bd6ace360"
      },
      "source": [
        "print(balanced_train_normalized_df['title'].apply(lambda x: len(x.split()) > 1.5 * 16).mean(),\n",
        "      balanced_train_normalized_df['abstract'].apply(lambda x: len(x.split()) > 1.5 * 256).mean(),\n",
        "      sep='\\n')"
      ],
      "execution_count": null,
      "outputs": [
        {
          "output_type": "stream",
          "name": "stdout",
          "text": [
            "0.008479881623129019\n",
            "0.003642365260941324\n"
          ]
        }
      ]
    },
    {
      "cell_type": "markdown",
      "metadata": {
        "id": "vUwp17F3gdVX"
      },
      "source": [
        "We also create versions of the training data which have their source column randomized, which will be used to test whether there is any accidental cheating in the network."
      ]
    },
    {
      "cell_type": "code",
      "metadata": {
        "id": "MwHkZGdZgv-C"
      },
      "source": [
        "balanced_train_normalized_randomized_source_df = balanced_train_normalized_df.copy()\n",
        "# Need to reset the indices after shuffling, otherwise overwriting silently fails.\n",
        "balanced_train_normalized_randomized_source_df_shuffle = balanced_train_normalized_randomized_source_df['source'].sample(frac=1)\n",
        "balanced_train_normalized_randomized_source_df_shuffle.index = balanced_train_normalized_randomized_source_df.index\n",
        "balanced_train_normalized_randomized_source_df['source'] = balanced_train_normalized_randomized_source_df_shuffle\n",
        "balanced_train_normalized_randomized_source_df.to_feather(FOLDERNAME + SUBDIR + 'balanced_filtered_normalized_data_randomized_source_train.feather')"
      ],
      "execution_count": null,
      "outputs": []
    },
    {
      "cell_type": "code",
      "metadata": {
        "id": "t59K610XZweP"
      },
      "source": [
        "balanced_validation_normalized_randomized_source_df = balanced_validation_normalized_df.copy()\n",
        "# Need to reset the indices after shuffling, otherwise overwriting silently fails.\n",
        "balanced_validation_normalized_randomized_source_df_shuffle = balanced_validation_normalized_randomized_source_df['source'].sample(frac=1)\n",
        "balanced_validation_normalized_randomized_source_df_shuffle.index = balanced_validation_normalized_randomized_source_df.index\n",
        "balanced_validation_normalized_randomized_source_df['source'] = balanced_validation_normalized_randomized_source_df_shuffle\n",
        "balanced_validation_normalized_randomized_source_df.to_feather(FOLDERNAME + SUBDIR + 'balanced_filtered_normalized_data_randomized_source_validation.feather')"
      ],
      "execution_count": null,
      "outputs": []
    },
    {
      "cell_type": "code",
      "metadata": {
        "id": "jfjijpGTRQhl"
      },
      "source": [
        "large_train_normalized_randomized_source_df = large_train_normalized_df.copy()\n",
        "# Need to reset the indices after shuffling, otherwise overwriting silently fails.\n",
        "large_train_normalized_randomized_source_df_shuffle = large_train_normalized_randomized_source_df['source'].sample(frac=1)\n",
        "large_train_normalized_randomized_source_df_shuffle.index = large_train_normalized_randomized_source_df.index\n",
        "large_train_normalized_randomized_source_df['source'] = large_train_normalized_randomized_source_df_shuffle\n",
        "large_train_normalized_randomized_source_df.to_feather(FOLDERNAME + SUBDIR + 'large_filtered_normalized_data_randomized_source_train.feather')"
      ],
      "execution_count": null,
      "outputs": []
    },
    {
      "cell_type": "markdown",
      "metadata": {
        "id": "D_-ZMIUSuPi8"
      },
      "source": [
        "Sanity check that the indices are really shuffled. The numbers in the tuple should be close to each other, since 'vixra' never appears in arxiv abstracts.\n"
      ]
    },
    {
      "cell_type": "code",
      "metadata": {
        "colab": {
          "base_uri": "https://localhost:8080/"
        },
        "id": "VQEaLFIou2n6",
        "outputId": "29f720dd-d91c-4fe9-b9f9-2b5b61fbef71"
      },
      "source": [
        "for df in (balanced_train_normalized_randomized_source_df, large_train_normalized_randomized_source_df):\n",
        "    # P(source == 'arxiv' | 'vixra' in 'abstract')\n",
        "    vixra_in_arxiv_abstract_frac = (df[df['abstract'].apply(lambda x: 'vixra' in x)]['source'] == 'arxiv').mean()\n",
        "    # vixra-to-arxiv ratio\n",
        "    ariv_to_vixra_ratio = (df['source'] == 'arxiv').mean()\n",
        "    print(vixra_in_arxiv_abstract_frac, ariv_to_vixra_ratio)"
      ],
      "execution_count": null,
      "outputs": [
        {
          "output_type": "stream",
          "name": "stdout",
          "text": [
            "0.460431654676259 0.5\n",
            "0.9859154929577465 0.9894184550129309\n"
          ]
        }
      ]
    },
    {
      "cell_type": "markdown",
      "metadata": {
        "id": "9QrBtOvEM9UO"
      },
      "source": [
        "## Vocabularies\n",
        "\n",
        "Get the unique words in titles and abstracts from the various datasets along with their counts.  We create dataframes with `word` and `count` columns, since we may want to filter on frequency."
      ]
    },
    {
      "cell_type": "markdown",
      "metadata": {
        "id": "h8R-ZL9bfqVR"
      },
      "source": [
        "Titles:"
      ]
    },
    {
      "cell_type": "code",
      "metadata": {
        "colab": {
          "base_uri": "https://localhost:8080/",
          "height": 204
        },
        "id": "XgphJVA1-93J",
        "outputId": "75c6946b-6321-4171-d6eb-b12c6b3348ac"
      },
      "source": [
        "balanced_title_normalized_word_counter = {}\n",
        "for _, title in balanced_train_normalized_df['title'].iteritems():\n",
        "    for word in title.split():\n",
        "        balanced_title_normalized_word_counter[word] = balanced_title_normalized_word_counter.get(word, 0) + 1\n",
        "# Turn into a dataframe with word, count, and idx (1-indexed), sorted by count\n",
        "balanced_title_normalized_words, balanced_title_normalized_counts = zip(*sorted(balanced_title_normalized_word_counter.items(), key = lambda x: x[1], reverse=True))\n",
        "balanced_title_normalized_vocab = {**{'word': balanced_title_normalized_words},\n",
        "                        **{'count': balanced_title_normalized_counts}}\n",
        "balanced_title_normalized_vocab_df = pd.DataFrame(balanced_title_normalized_vocab)\n",
        "balanced_title_normalized_vocab_df.head()"
      ],
      "execution_count": null,
      "outputs": [
        {
          "output_type": "execute_result",
          "data": {
            "text/html": [
              "<div>\n",
              "<style scoped>\n",
              "    .dataframe tbody tr th:only-of-type {\n",
              "        vertical-align: middle;\n",
              "    }\n",
              "\n",
              "    .dataframe tbody tr th {\n",
              "        vertical-align: top;\n",
              "    }\n",
              "\n",
              "    .dataframe thead th {\n",
              "        text-align: right;\n",
              "    }\n",
              "</style>\n",
              "<table border=\"1\" class=\"dataframe\">\n",
              "  <thead>\n",
              "    <tr style=\"text-align: right;\">\n",
              "      <th></th>\n",
              "      <th>word</th>\n",
              "      <th>count</th>\n",
              "    </tr>\n",
              "  </thead>\n",
              "  <tbody>\n",
              "    <tr>\n",
              "      <th>0</th>\n",
              "      <td>of</td>\n",
              "      <td>16881</td>\n",
              "    </tr>\n",
              "    <tr>\n",
              "      <th>1</th>\n",
              "      <td>-</td>\n",
              "      <td>15158</td>\n",
              "    </tr>\n",
              "    <tr>\n",
              "      <th>2</th>\n",
              "      <td>the</td>\n",
              "      <td>13569</td>\n",
              "    </tr>\n",
              "    <tr>\n",
              "      <th>3</th>\n",
              "      <td>and</td>\n",
              "      <td>9737</td>\n",
              "    </tr>\n",
              "    <tr>\n",
              "      <th>4</th>\n",
              "      <td>in</td>\n",
              "      <td>7861</td>\n",
              "    </tr>\n",
              "  </tbody>\n",
              "</table>\n",
              "</div>"
            ],
            "text/plain": [
              "  word  count\n",
              "0   of  16881\n",
              "1    -  15158\n",
              "2  the  13569\n",
              "3  and   9737\n",
              "4   in   7861"
            ]
          },
          "metadata": {},
          "execution_count": 33
        }
      ]
    },
    {
      "cell_type": "code",
      "metadata": {
        "colab": {
          "base_uri": "https://localhost:8080/",
          "height": 204
        },
        "id": "ghoc0oM9TUzi",
        "outputId": "35acd881-dad4-4e94-9b8a-cfc92511d711"
      },
      "source": [
        "large_title_normalized_word_counter = {}\n",
        "for _, title in large_train_normalized_df['title'].iteritems():\n",
        "    for word in title.split():\n",
        "        large_title_normalized_word_counter[word] = large_title_normalized_word_counter.get(word, 0) + 1\n",
        "# Turn into a dataframe with word, count, and idx (1-indexed), sorted by count\n",
        "large_title_normalized_words, large_title_normalized_counts = zip(*sorted(large_title_normalized_word_counter.items(), key = lambda x: x[1], reverse=True))\n",
        "large_title_normalized_vocab = {**{'word': large_title_normalized_words}, **{'count': large_title_normalized_counts}}\n",
        "large_title_normalized_vocab_df = pd.DataFrame(large_title_normalized_vocab)\n",
        "large_title_normalized_vocab_df.head()"
      ],
      "execution_count": null,
      "outputs": [
        {
          "output_type": "execute_result",
          "data": {
            "text/html": [
              "<div>\n",
              "<style scoped>\n",
              "    .dataframe tbody tr th:only-of-type {\n",
              "        vertical-align: middle;\n",
              "    }\n",
              "\n",
              "    .dataframe tbody tr th {\n",
              "        vertical-align: top;\n",
              "    }\n",
              "\n",
              "    .dataframe thead th {\n",
              "        text-align: right;\n",
              "    }\n",
              "</style>\n",
              "<table border=\"1\" class=\"dataframe\">\n",
              "  <thead>\n",
              "    <tr style=\"text-align: right;\">\n",
              "      <th></th>\n",
              "      <th>word</th>\n",
              "      <th>count</th>\n",
              "    </tr>\n",
              "  </thead>\n",
              "  <tbody>\n",
              "    <tr>\n",
              "      <th>0</th>\n",
              "      <td>-</td>\n",
              "      <td>997188</td>\n",
              "    </tr>\n",
              "    <tr>\n",
              "      <th>1</th>\n",
              "      <td>of</td>\n",
              "      <td>825541</td>\n",
              "    </tr>\n",
              "    <tr>\n",
              "      <th>2</th>\n",
              "      <td>the</td>\n",
              "      <td>578643</td>\n",
              "    </tr>\n",
              "    <tr>\n",
              "      <th>3</th>\n",
              "      <td>in</td>\n",
              "      <td>500106</td>\n",
              "    </tr>\n",
              "    <tr>\n",
              "      <th>4</th>\n",
              "      <td>and</td>\n",
              "      <td>481664</td>\n",
              "    </tr>\n",
              "  </tbody>\n",
              "</table>\n",
              "</div>"
            ],
            "text/plain": [
              "  word   count\n",
              "0    -  997188\n",
              "1   of  825541\n",
              "2  the  578643\n",
              "3   in  500106\n",
              "4  and  481664"
            ]
          },
          "metadata": {},
          "execution_count": 34
        }
      ]
    },
    {
      "cell_type": "markdown",
      "metadata": {
        "id": "q-7t4-2oT9KJ"
      },
      "source": [
        "Abstracts"
      ]
    },
    {
      "cell_type": "code",
      "metadata": {
        "colab": {
          "base_uri": "https://localhost:8080/",
          "height": 204
        },
        "id": "gw4vHfDuTswx",
        "outputId": "0ce6da86-0714-4f65-c63a-d5f0abff39de"
      },
      "source": [
        "balanced_abstract_normalized_word_counter = {}\n",
        "for _, abstract in balanced_train_normalized_df['abstract'].iteritems():\n",
        "    for word in abstract.split():\n",
        "        balanced_abstract_normalized_word_counter[word] = balanced_abstract_normalized_word_counter.get(word, 0) + 1\n",
        "# Turn into a dataframe with word, count, and idx (1-indexed), sorted by count\n",
        "balanced_abstract_normalized_words, balanced_abstract_normalized_counts = zip(*sorted(balanced_abstract_normalized_word_counter.items(), key = lambda x: x[1], reverse=True))\n",
        "balanced_abstract_normalized_vocab = {**{'word': balanced_abstract_normalized_words},\n",
        "                        **{'count': balanced_abstract_normalized_counts}}\n",
        "balanced_abstract_normalized_vocab_df = pd.DataFrame(balanced_abstract_normalized_vocab)\n",
        "balanced_abstract_normalized_vocab_df.head()"
      ],
      "execution_count": null,
      "outputs": [
        {
          "output_type": "execute_result",
          "data": {
            "text/html": [
              "<div>\n",
              "<style scoped>\n",
              "    .dataframe tbody tr th:only-of-type {\n",
              "        vertical-align: middle;\n",
              "    }\n",
              "\n",
              "    .dataframe tbody tr th {\n",
              "        vertical-align: top;\n",
              "    }\n",
              "\n",
              "    .dataframe thead th {\n",
              "        text-align: right;\n",
              "    }\n",
              "</style>\n",
              "<table border=\"1\" class=\"dataframe\">\n",
              "  <thead>\n",
              "    <tr style=\"text-align: right;\">\n",
              "      <th></th>\n",
              "      <th>word</th>\n",
              "      <th>count</th>\n",
              "    </tr>\n",
              "  </thead>\n",
              "  <tbody>\n",
              "    <tr>\n",
              "      <th>0</th>\n",
              "      <td>the</td>\n",
              "      <td>284504</td>\n",
              "    </tr>\n",
              "    <tr>\n",
              "      <th>1</th>\n",
              "      <td>.</td>\n",
              "      <td>181363</td>\n",
              "    </tr>\n",
              "    <tr>\n",
              "      <th>2</th>\n",
              "      <td>of</td>\n",
              "      <td>179986</td>\n",
              "    </tr>\n",
              "    <tr>\n",
              "      <th>3</th>\n",
              "      <td>,</td>\n",
              "      <td>155798</td>\n",
              "    </tr>\n",
              "    <tr>\n",
              "      <th>4</th>\n",
              "      <td>-</td>\n",
              "      <td>103144</td>\n",
              "    </tr>\n",
              "  </tbody>\n",
              "</table>\n",
              "</div>"
            ],
            "text/plain": [
              "  word   count\n",
              "0  the  284504\n",
              "1    .  181363\n",
              "2   of  179986\n",
              "3    ,  155798\n",
              "4    -  103144"
            ]
          },
          "metadata": {},
          "execution_count": 35
        }
      ]
    },
    {
      "cell_type": "code",
      "metadata": {
        "colab": {
          "base_uri": "https://localhost:8080/",
          "height": 204
        },
        "id": "IP4X5o6vTswz",
        "outputId": "486e2cef-789a-4d94-ec48-4ac6ef2e21b8"
      },
      "source": [
        "large_abstract_normalized_word_counter = {}\n",
        "for _, abstract in large_train_normalized_df['abstract'].iteritems():\n",
        "    for word in abstract.split():\n",
        "        large_abstract_normalized_word_counter[word] = large_abstract_normalized_word_counter.get(word, 0) + 1\n",
        "# Turn into a dataframe with word, count, and idx (1-indexed), sorted by count\n",
        "large_abstract_normalized_words, large_abstract_normalized_counts = zip(*sorted(large_abstract_normalized_word_counter.items(), key = lambda x: x[1], reverse=True))\n",
        "large_abstract_normalized_vocab = {**{'word': large_abstract_normalized_words},\n",
        "                        **{'count': large_abstract_normalized_counts}}\n",
        "large_abstract_normalized_vocab_df = pd.DataFrame(large_abstract_normalized_vocab)\n",
        "large_abstract_normalized_vocab_df.head()"
      ],
      "execution_count": null,
      "outputs": [
        {
          "output_type": "execute_result",
          "data": {
            "text/html": [
              "<div>\n",
              "<style scoped>\n",
              "    .dataframe tbody tr th:only-of-type {\n",
              "        vertical-align: middle;\n",
              "    }\n",
              "\n",
              "    .dataframe tbody tr th {\n",
              "        vertical-align: top;\n",
              "    }\n",
              "\n",
              "    .dataframe thead th {\n",
              "        text-align: right;\n",
              "    }\n",
              "</style>\n",
              "<table border=\"1\" class=\"dataframe\">\n",
              "  <thead>\n",
              "    <tr style=\"text-align: right;\">\n",
              "      <th></th>\n",
              "      <th>word</th>\n",
              "      <th>count</th>\n",
              "    </tr>\n",
              "  </thead>\n",
              "  <tbody>\n",
              "    <tr>\n",
              "      <th>0</th>\n",
              "      <td>the</td>\n",
              "      <td>15959835</td>\n",
              "    </tr>\n",
              "    <tr>\n",
              "      <th>1</th>\n",
              "      <td>.</td>\n",
              "      <td>10036994</td>\n",
              "    </tr>\n",
              "    <tr>\n",
              "      <th>2</th>\n",
              "      <td>of</td>\n",
              "      <td>9709506</td>\n",
              "    </tr>\n",
              "    <tr>\n",
              "      <th>3</th>\n",
              "      <td>,</td>\n",
              "      <td>8385499</td>\n",
              "    </tr>\n",
              "    <tr>\n",
              "      <th>4</th>\n",
              "      <td>-</td>\n",
              "      <td>6825851</td>\n",
              "    </tr>\n",
              "  </tbody>\n",
              "</table>\n",
              "</div>"
            ],
            "text/plain": [
              "  word     count\n",
              "0  the  15959835\n",
              "1    .  10036994\n",
              "2   of   9709506\n",
              "3    ,   8385499\n",
              "4    -   6825851"
            ]
          },
          "metadata": {},
          "execution_count": 36
        }
      ]
    },
    {
      "cell_type": "markdown",
      "metadata": {
        "id": "X56q29-PUNhA"
      },
      "source": [
        "### Look into the statistics of the word sets"
      ]
    },
    {
      "cell_type": "markdown",
      "metadata": {
        "id": "TfvKpr4xUhE6"
      },
      "source": [
        "Titles"
      ]
    },
    {
      "cell_type": "code",
      "metadata": {
        "colab": {
          "base_uri": "https://localhost:8080/"
        },
        "id": "KTH0HmNLUSPG",
        "outputId": "92763706-6e19-4613-f160-83904c3a1a94"
      },
      "source": [
        "balanced_title_normalized_vocab_df['count'].describe()"
      ],
      "execution_count": null,
      "outputs": [
        {
          "output_type": "execute_result",
          "data": {
            "text/plain": [
              "count   23946.000000\n",
              "mean       14.654640\n",
              "std       209.052981\n",
              "min         1.000000\n",
              "25%         1.000000\n",
              "50%         1.000000\n",
              "75%         4.000000\n",
              "max     16881.000000\n",
              "Name: count, dtype: float64"
            ]
          },
          "metadata": {},
          "execution_count": 37
        }
      ]
    },
    {
      "cell_type": "markdown",
      "metadata": {
        "id": "Bs2oHKJ1Ub-X"
      },
      "source": [
        "Filtering on words which appear more than twice already hugely cleaves the data."
      ]
    },
    {
      "cell_type": "code",
      "metadata": {
        "colab": {
          "base_uri": "https://localhost:8080/"
        },
        "id": "hPVI54FWSxgV",
        "outputId": "63539998-425f-4291-8eef-3e4a60d470d9"
      },
      "source": [
        "(balanced_title_normalized_vocab_df['count'] > 2).mean()"
      ],
      "execution_count": null,
      "outputs": [
        {
          "output_type": "execute_result",
          "data": {
            "text/plain": [
              "0.35496533867869373"
            ]
          },
          "metadata": {},
          "execution_count": 38
        }
      ]
    },
    {
      "cell_type": "code",
      "metadata": {
        "colab": {
          "base_uri": "https://localhost:8080/",
          "height": 418
        },
        "id": "AV7s8TTyTyRp",
        "outputId": "9f58f9aa-a3b2-4602-840d-19f9be980ba9"
      },
      "source": [
        "balanced_title_normalized_vocab_df[balanced_title_normalized_vocab_df['count'] < 2]"
      ],
      "execution_count": null,
      "outputs": [
        {
          "output_type": "execute_result",
          "data": {
            "text/html": [
              "<div>\n",
              "<style scoped>\n",
              "    .dataframe tbody tr th:only-of-type {\n",
              "        vertical-align: middle;\n",
              "    }\n",
              "\n",
              "    .dataframe tbody tr th {\n",
              "        vertical-align: top;\n",
              "    }\n",
              "\n",
              "    .dataframe thead th {\n",
              "        text-align: right;\n",
              "    }\n",
              "</style>\n",
              "<table border=\"1\" class=\"dataframe\">\n",
              "  <thead>\n",
              "    <tr style=\"text-align: right;\">\n",
              "      <th></th>\n",
              "      <th>word</th>\n",
              "      <th>count</th>\n",
              "    </tr>\n",
              "  </thead>\n",
              "  <tbody>\n",
              "    <tr>\n",
              "      <th>11748</th>\n",
              "      <td>reits</td>\n",
              "      <td>1</td>\n",
              "    </tr>\n",
              "    <tr>\n",
              "      <th>11749</th>\n",
              "      <td>erector</td>\n",
              "      <td>1</td>\n",
              "    </tr>\n",
              "    <tr>\n",
              "      <th>11750</th>\n",
              "      <td>srn</td>\n",
              "      <td>1</td>\n",
              "    </tr>\n",
              "    <tr>\n",
              "      <th>11751</th>\n",
              "      <td>1tino3n</td>\n",
              "      <td>1</td>\n",
              "    </tr>\n",
              "    <tr>\n",
              "      <th>11752</th>\n",
              "      <td>isic</td>\n",
              "      <td>1</td>\n",
              "    </tr>\n",
              "    <tr>\n",
              "      <th>...</th>\n",
              "      <td>...</td>\n",
              "      <td>...</td>\n",
              "    </tr>\n",
              "    <tr>\n",
              "      <th>23941</th>\n",
              "      <td>condensing</td>\n",
              "      <td>1</td>\n",
              "    </tr>\n",
              "    <tr>\n",
              "      <th>23942</th>\n",
              "      <td>anyone</td>\n",
              "      <td>1</td>\n",
              "    </tr>\n",
              "    <tr>\n",
              "      <th>23943</th>\n",
              "      <td>highlighting</td>\n",
              "      <td>1</td>\n",
              "    </tr>\n",
              "    <tr>\n",
              "      <th>23944</th>\n",
              "      <td>snippets</td>\n",
              "      <td>1</td>\n",
              "    </tr>\n",
              "    <tr>\n",
              "      <th>23945</th>\n",
              "      <td>distr</td>\n",
              "      <td>1</td>\n",
              "    </tr>\n",
              "  </tbody>\n",
              "</table>\n",
              "<p>12198 rows × 2 columns</p>\n",
              "</div>"
            ],
            "text/plain": [
              "               word  count\n",
              "11748         reits      1\n",
              "11749       erector      1\n",
              "11750           srn      1\n",
              "11751       1tino3n      1\n",
              "11752          isic      1\n",
              "...             ...    ...\n",
              "23941    condensing      1\n",
              "23942        anyone      1\n",
              "23943  highlighting      1\n",
              "23944      snippets      1\n",
              "23945         distr      1\n",
              "\n",
              "[12198 rows x 2 columns]"
            ]
          },
          "metadata": {},
          "execution_count": 39
        }
      ]
    },
    {
      "cell_type": "markdown",
      "metadata": {
        "id": "IPSy0476UmtU"
      },
      "source": [
        "Abstracts"
      ]
    },
    {
      "cell_type": "code",
      "metadata": {
        "colab": {
          "base_uri": "https://localhost:8080/"
        },
        "id": "wjuPQOY2Umz4",
        "outputId": "08ab9321-16d4-438a-868f-1391a11358d7"
      },
      "source": [
        "balanced_abstract_normalized_vocab_df['count'].describe()"
      ],
      "execution_count": null,
      "outputs": [
        {
          "output_type": "execute_result",
          "data": {
            "text/plain": [
              "count    66668.000000\n",
              "mean        71.238000\n",
              "std       1916.507301\n",
              "min          1.000000\n",
              "25%          1.000000\n",
              "50%          2.000000\n",
              "75%          7.000000\n",
              "max     284504.000000\n",
              "Name: count, dtype: float64"
            ]
          },
          "metadata": {},
          "execution_count": 40
        }
      ]
    },
    {
      "cell_type": "markdown",
      "metadata": {
        "id": "HKGJIAxfUmz6"
      },
      "source": [
        "Filtering on words which appear more than twice already hugely cleaves the data."
      ]
    },
    {
      "cell_type": "code",
      "metadata": {
        "colab": {
          "base_uri": "https://localhost:8080/"
        },
        "id": "JpuClDnqUmz6",
        "outputId": "89e88156-4ffb-4d58-f1ef-e59bb26fe02d"
      },
      "source": [
        "(balanced_abstract_normalized_vocab_df['count'] > 2).mean()"
      ],
      "execution_count": null,
      "outputs": [
        {
          "output_type": "execute_result",
          "data": {
            "text/plain": [
              "0.44298614027719446"
            ]
          },
          "metadata": {},
          "execution_count": 41
        }
      ]
    },
    {
      "cell_type": "code",
      "metadata": {
        "colab": {
          "base_uri": "https://localhost:8080/",
          "height": 418
        },
        "id": "01QT1KblUmz7",
        "outputId": "80086590-8044-4b9d-bc8c-b9353b0e4972"
      },
      "source": [
        "balanced_abstract_normalized_vocab_df[balanced_abstract_normalized_vocab_df['count'] < 2]"
      ],
      "execution_count": null,
      "outputs": [
        {
          "output_type": "execute_result",
          "data": {
            "text/html": [
              "<div>\n",
              "<style scoped>\n",
              "    .dataframe tbody tr th:only-of-type {\n",
              "        vertical-align: middle;\n",
              "    }\n",
              "\n",
              "    .dataframe tbody tr th {\n",
              "        vertical-align: top;\n",
              "    }\n",
              "\n",
              "    .dataframe thead th {\n",
              "        text-align: right;\n",
              "    }\n",
              "</style>\n",
              "<table border=\"1\" class=\"dataframe\">\n",
              "  <thead>\n",
              "    <tr style=\"text-align: right;\">\n",
              "      <th></th>\n",
              "      <th>word</th>\n",
              "      <th>count</th>\n",
              "    </tr>\n",
              "  </thead>\n",
              "  <tbody>\n",
              "    <tr>\n",
              "      <th>38847</th>\n",
              "      <td>bolls</td>\n",
              "      <td>1</td>\n",
              "    </tr>\n",
              "    <tr>\n",
              "      <th>38848</th>\n",
              "      <td>kostas</td>\n",
              "      <td>1</td>\n",
              "    </tr>\n",
              "    <tr>\n",
              "      <th>38849</th>\n",
              "      <td>keremidis</td>\n",
              "      <td>1</td>\n",
              "    </tr>\n",
              "    <tr>\n",
              "      <th>38850</th>\n",
              "      <td>srn</td>\n",
              "      <td>1</td>\n",
              "    </tr>\n",
              "    <tr>\n",
              "      <th>38851</th>\n",
              "      <td>1tino3n</td>\n",
              "      <td>1</td>\n",
              "    </tr>\n",
              "    <tr>\n",
              "      <th>...</th>\n",
              "      <td>...</td>\n",
              "      <td>...</td>\n",
              "    </tr>\n",
              "    <tr>\n",
              "      <th>66663</th>\n",
              "      <td>chrial</td>\n",
              "      <td>1</td>\n",
              "    </tr>\n",
              "    <tr>\n",
              "      <th>66664</th>\n",
              "      <td>crnb</td>\n",
              "      <td>1</td>\n",
              "    </tr>\n",
              "    <tr>\n",
              "      <th>66665</th>\n",
              "      <td>siox</td>\n",
              "      <td>1</td>\n",
              "    </tr>\n",
              "    <tr>\n",
              "      <th>66666</th>\n",
              "      <td>invisp</td>\n",
              "      <td>1</td>\n",
              "    </tr>\n",
              "    <tr>\n",
              "      <th>66667</th>\n",
              "      <td>empowers</td>\n",
              "      <td>1</td>\n",
              "    </tr>\n",
              "  </tbody>\n",
              "</table>\n",
              "<p>27821 rows × 2 columns</p>\n",
              "</div>"
            ],
            "text/plain": [
              "            word  count\n",
              "38847      bolls      1\n",
              "38848     kostas      1\n",
              "38849  keremidis      1\n",
              "38850        srn      1\n",
              "38851    1tino3n      1\n",
              "...          ...    ...\n",
              "66663     chrial      1\n",
              "66664       crnb      1\n",
              "66665       siox      1\n",
              "66666     invisp      1\n",
              "66667   empowers      1\n",
              "\n",
              "[27821 rows x 2 columns]"
            ]
          },
          "metadata": {},
          "execution_count": 42
        }
      ]
    },
    {
      "cell_type": "markdown",
      "metadata": {
        "id": "sVRjQyzFAyU0"
      },
      "source": [
        "Abstracts:"
      ]
    },
    {
      "cell_type": "markdown",
      "metadata": {
        "id": "pXlc28uZm_ti"
      },
      "source": [
        "Save to feather format."
      ]
    },
    {
      "cell_type": "code",
      "metadata": {
        "id": "BEKly3Tamzcy"
      },
      "source": [
        "balanced_title_normalized_vocab_df.to_feather(FOLDERNAME + 'data/data_splits/balanced_title_normalized_vocab.feather')\n",
        "balanced_abstract_normalized_vocab_df.to_feather(FOLDERNAME + 'data/data_splits/balanced_abstract_normalized_vocab.feather')\n",
        "large_title_normalized_vocab_df.to_feather(FOLDERNAME + 'data/data_splits/large_title_normalized_vocab.feather')\n",
        "large_abstract_normalized_vocab_df.to_feather(FOLDERNAME + 'data/data_splits/large_abstract_normalized_vocab.feather')"
      ],
      "execution_count": null,
      "outputs": []
    },
    {
      "cell_type": "markdown",
      "metadata": {
        "id": "o2nMpL-Ck1xn"
      },
      "source": [
        "Create the Zipf's law plots"
      ]
    },
    {
      "cell_type": "code",
      "metadata": {
        "id": "-iiklWAMirti",
        "colab": {
          "base_uri": "https://localhost:8080/",
          "height": 301
        },
        "outputId": "9aff749a-170e-44cc-d25e-4d4a13607acf"
      },
      "source": [
        "zipf_balanced_title_data = np.array(balanced_title_normalized_vocab_df['count'])\n",
        "zipf_balanced_title_data = np.log(zipf_balanced_title_data / zipf_balanced_title_data.sum())\n",
        "zipf_balanced_title_plot = sns.scatterplot(y=zipf_balanced_title_data,\n",
        "                            x=np.log(np.arange(1, len(zipf_balanced_title_data) + 1)), \n",
        "                            marker='$-$',\n",
        "                            edgecolor='none')\n",
        "zipf_balanced_title_plot.set_title(\"Zipf's Law: balanced Titles\")\n",
        "zipf_balanced_title_plot.set_xlabel('ln(rank)')\n",
        "zipf_balanced_title_plot.set_ylabel('ln(frequency)')\n",
        "zipf_balanced_title_plot.get_figure().savefig(FOLDERNAME + 'figures/zipf_balanced_title_plot.png')"
      ],
      "execution_count": null,
      "outputs": [
        {
          "output_type": "display_data",
          "data": {
            "image/png": "[encoded data removed]",
            "text/plain": [
              "<Figure size 432x288 with 1 Axes>"
            ]
          },
          "metadata": {
            "needs_background": "light"
          }
        }
      ]
    },
    {
      "cell_type": "code",
      "metadata": {
        "colab": {
          "base_uri": "https://localhost:8080/",
          "height": 301
        },
        "id": "04XSbdldFKjy",
        "outputId": "61dd152e-f131-4da7-c1a3-26d304f0bb0a"
      },
      "source": [
        "zipf_balanced_abstract_data = np.array(balanced_abstract_normalized_vocab_df['count'])\n",
        "zipf_balanced_abstract_data = np.log(zipf_balanced_abstract_data / zipf_balanced_abstract_data.sum())\n",
        "zipf_balanced_abstract_plot = sns.scatterplot(y=zipf_balanced_abstract_data,\n",
        "                            x=np.log(np.arange(1, len(zipf_balanced_abstract_data) + 1)), \n",
        "                            marker='$-$',\n",
        "                            edgecolor='none')\n",
        "zipf_balanced_abstract_plot.set_title(\"Zipf's Law: balanced abstracts\")\n",
        "zipf_balanced_abstract_plot.set_xlabel('ln(rank)')\n",
        "zipf_balanced_abstract_plot.set_ylabel('ln(frequency)')\n",
        "zipf_balanced_abstract_plot.get_figure().savefig(FOLDERNAME + 'figures/zipf_balanced_abstract_plot.png')"
      ],
      "execution_count": null,
      "outputs": [
        {
          "output_type": "display_data",
          "data": {
            "image/png": "[encoded data removed]",
            "text/plain": [
              "<Figure size 432x288 with 1 Axes>"
            ]
          },
          "metadata": {
            "needs_background": "light"
          }
        }
      ]
    },
    {
      "cell_type": "code",
      "metadata": {
        "colab": {
          "base_uri": "https://localhost:8080/",
          "height": 301
        },
        "id": "m8aRuo6rFX9w",
        "outputId": "eb87e6f1-0671-43be-8a2c-79d4ba0729a6"
      },
      "source": [
        "zipf_large_title_data = np.array(large_title_normalized_vocab_df['count'])\n",
        "zipf_large_title_data = np.log(zipf_large_title_data / zipf_large_title_data.sum())\n",
        "zipf_large_title_plot = sns.scatterplot(y=zipf_large_title_data,\n",
        "                            x=np.log(np.arange(1, len(zipf_large_title_data) + 1)), \n",
        "                            marker='$-$',\n",
        "                            edgecolor='none')\n",
        "zipf_large_title_plot.set_title(\"Zipf's Law: large Titles\")\n",
        "zipf_large_title_plot.set_xlabel('ln(rank)')\n",
        "zipf_large_title_plot.set_ylabel('ln(frequency)')\n",
        "zipf_large_title_plot.get_figure().savefig(FOLDERNAME + 'figures/zipf_large_title_plot.png')"
      ],
      "execution_count": null,
      "outputs": [
        {
          "output_type": "display_data",
          "data": {
            "image/png": "[encoded data removed]",
            "text/plain": [
              "<Figure size 432x288 with 1 Axes>"
            ]
          },
          "metadata": {
            "needs_background": "light"
          }
        }
      ]
    },
    {
      "cell_type": "code",
      "metadata": {
        "colab": {
          "base_uri": "https://localhost:8080/",
          "height": 301
        },
        "id": "_xZS5viYGN8u",
        "outputId": "3d8aa42f-6ea1-470e-fa38-4998fedc7888"
      },
      "source": [
        "zipf_large_abstract_data = np.array(large_abstract_normalized_vocab_df['count'])\n",
        "zipf_large_abstract_data = np.log(zipf_large_abstract_data / zipf_large_abstract_data.sum())\n",
        "zipf_large_abstract_plot = sns.scatterplot(y=zipf_large_abstract_data,\n",
        "                            x=np.log(np.arange(1, len(zipf_large_abstract_data) + 1)), \n",
        "                            marker='$-$',\n",
        "                            edgecolor='none')\n",
        "zipf_large_abstract_plot.set_title(\"Zipf's Law: large abstracts\")\n",
        "zipf_large_abstract_plot.set_xlabel('ln(rank)')\n",
        "zipf_large_abstract_plot.set_ylabel('ln(frequency)')\n",
        "zipf_large_abstract_plot.get_figure().savefig(FOLDERNAME + 'figures/zipf_large_abstract_plot.png')"
      ],
      "execution_count": null,
      "outputs": [
        {
          "output_type": "display_data",
          "data": {
            "image/png": "[encoded data removed]",
            "text/plain": [
              "<Figure size 432x288 with 1 Axes>"
            ]
          },
          "metadata": {
            "needs_background": "light"
          }
        }
      ]
    }
  ]
}